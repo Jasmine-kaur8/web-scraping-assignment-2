{
 "cells": [
  {
   "cell_type": "code",
   "execution_count": 2,
   "metadata": {},
   "outputs": [
    {
     "name": "stdout",
     "output_type": "stream",
     "text": [
      "Requirement already satisfied: selenium in c:\\users\\hp\\anaconda3\\lib\\site-packages (3.141.0)\n",
      "Requirement already satisfied: urllib3 in c:\\users\\hp\\anaconda3\\lib\\site-packages (from selenium) (1.25.11)\n"
     ]
    }
   ],
   "source": [
    "!pip install selenium"
   ]
  },
  {
   "cell_type": "code",
   "execution_count": 3,
   "metadata": {},
   "outputs": [],
   "source": [
    "import selenium\n",
    "import pandas as pd\n",
    "from selenium import webdriver"
   ]
  },
  {
   "cell_type": "code",
   "execution_count": 4,
   "metadata": {},
   "outputs": [],
   "source": [
    "driver = webdriver.Chrome(r'C:\\Users\\HP\\Downloads\\chromedriver_win32\\chromedriver.exe')"
   ]
  },
  {
   "cell_type": "markdown",
   "metadata": {},
   "source": [
    "# Q1. Data analyst job position in bangalore location from the webpage naukri.com."
   ]
  },
  {
   "cell_type": "code",
   "execution_count": 4,
   "metadata": {},
   "outputs": [],
   "source": [
    "driver = webdriver.Chrome('chromedriver.exe')"
   ]
  },
  {
   "cell_type": "code",
   "execution_count": 5,
   "metadata": {},
   "outputs": [],
   "source": [
    "url = 'https://naukri.com'\n",
    "driver.get(url)"
   ]
  },
  {
   "cell_type": "code",
   "execution_count": 6,
   "metadata": {},
   "outputs": [
    {
     "data": {
      "text/plain": [
       "<selenium.webdriver.remote.webelement.WebElement (session=\"d66aff6eb033f72dc740203b68301736\", element=\"b4e4e4c4-23e5-438b-9a8c-927aa5aed6ec\")>"
      ]
     },
     "execution_count": 6,
     "metadata": {},
     "output_type": "execute_result"
    }
   ],
   "source": [
    "search_job1 = driver.find_element_by_xpath('//input[@class=\"sugInp\"]')\n",
    "search_job1"
   ]
  },
  {
   "cell_type": "code",
   "execution_count": 7,
   "metadata": {},
   "outputs": [],
   "source": [
    "search_job1.send_keys(\"Data Analyst\")"
   ]
  },
  {
   "cell_type": "code",
   "execution_count": 8,
   "metadata": {},
   "outputs": [],
   "source": [
    "search_loc1 = driver.find_element_by_id(\"qsb-location-sugg\")\n",
    "search_loc1.send_keys('Bangalore')"
   ]
  },
  {
   "cell_type": "code",
   "execution_count": 9,
   "metadata": {},
   "outputs": [
    {
     "data": {
      "text/plain": [
       "<selenium.webdriver.remote.webelement.WebElement (session=\"d66aff6eb033f72dc740203b68301736\", element=\"be0ad256-b033-4240-9bb4-7b739ec3ba57\")>"
      ]
     },
     "execution_count": 9,
     "metadata": {},
     "output_type": "execute_result"
    }
   ],
   "source": [
    "search_button1 = driver.find_element_by_xpath('//button[@class=\"btn\"]')\n",
    "search_button1"
   ]
  },
  {
   "cell_type": "code",
   "execution_count": 10,
   "metadata": {},
   "outputs": [],
   "source": [
    "search_button1.click()"
   ]
  },
  {
   "cell_type": "code",
   "execution_count": 11,
   "metadata": {},
   "outputs": [
    {
     "data": {
      "text/plain": [
       "[<selenium.webdriver.remote.webelement.WebElement (session=\"d66aff6eb033f72dc740203b68301736\", element=\"3201fb4a-e271-42a3-9428-0043484096ec\")>,\n",
       " <selenium.webdriver.remote.webelement.WebElement (session=\"d66aff6eb033f72dc740203b68301736\", element=\"b7e7f222-0f28-447c-a222-7da9de98577f\")>,\n",
       " <selenium.webdriver.remote.webelement.WebElement (session=\"d66aff6eb033f72dc740203b68301736\", element=\"4ae60846-68bf-4f7c-a72a-cc259263a3f4\")>,\n",
       " <selenium.webdriver.remote.webelement.WebElement (session=\"d66aff6eb033f72dc740203b68301736\", element=\"b99162c6-a8a5-445b-b54c-e60fa6f31fae\")>,\n",
       " <selenium.webdriver.remote.webelement.WebElement (session=\"d66aff6eb033f72dc740203b68301736\", element=\"856b8692-e14f-4b74-b6a4-2eeb449153ff\")>,\n",
       " <selenium.webdriver.remote.webelement.WebElement (session=\"d66aff6eb033f72dc740203b68301736\", element=\"582f878b-fca4-41c7-a6c6-364289f28db3\")>,\n",
       " <selenium.webdriver.remote.webelement.WebElement (session=\"d66aff6eb033f72dc740203b68301736\", element=\"f77139bf-94ff-4bed-92bc-b085f0126e42\")>,\n",
       " <selenium.webdriver.remote.webelement.WebElement (session=\"d66aff6eb033f72dc740203b68301736\", element=\"3dacf042-ba11-42af-873e-7249398f4cc7\")>,\n",
       " <selenium.webdriver.remote.webelement.WebElement (session=\"d66aff6eb033f72dc740203b68301736\", element=\"76e1fafe-7c62-48e5-be15-26ad730be812\")>,\n",
       " <selenium.webdriver.remote.webelement.WebElement (session=\"d66aff6eb033f72dc740203b68301736\", element=\"07396b74-84a1-41ca-b800-58eba306ae71\")>,\n",
       " <selenium.webdriver.remote.webelement.WebElement (session=\"d66aff6eb033f72dc740203b68301736\", element=\"c5fcb5d4-ea04-4da2-96e7-ca2ff04eece5\")>,\n",
       " <selenium.webdriver.remote.webelement.WebElement (session=\"d66aff6eb033f72dc740203b68301736\", element=\"32875452-d437-4a08-9d65-7f87518d246b\")>,\n",
       " <selenium.webdriver.remote.webelement.WebElement (session=\"d66aff6eb033f72dc740203b68301736\", element=\"ba274333-098b-49d3-9367-5a091e64013a\")>,\n",
       " <selenium.webdriver.remote.webelement.WebElement (session=\"d66aff6eb033f72dc740203b68301736\", element=\"fbbd760f-20d5-4b02-bdfb-a9377f61e3ad\")>,\n",
       " <selenium.webdriver.remote.webelement.WebElement (session=\"d66aff6eb033f72dc740203b68301736\", element=\"a2f52630-40c4-42dd-9bcf-655310f8f414\")>,\n",
       " <selenium.webdriver.remote.webelement.WebElement (session=\"d66aff6eb033f72dc740203b68301736\", element=\"4b920efe-756f-4402-a2c6-c92423743d99\")>,\n",
       " <selenium.webdriver.remote.webelement.WebElement (session=\"d66aff6eb033f72dc740203b68301736\", element=\"1d59393c-b3fb-47fc-8d2e-dec90f5ac6c1\")>,\n",
       " <selenium.webdriver.remote.webelement.WebElement (session=\"d66aff6eb033f72dc740203b68301736\", element=\"cc3920f3-318f-4512-b8af-cebac46b37f9\")>,\n",
       " <selenium.webdriver.remote.webelement.WebElement (session=\"d66aff6eb033f72dc740203b68301736\", element=\"23170f7c-99a8-4286-8de5-a7c3eeae82e0\")>,\n",
       " <selenium.webdriver.remote.webelement.WebElement (session=\"d66aff6eb033f72dc740203b68301736\", element=\"cc08c21b-0e2b-4b2f-b6c6-38bd236be682\")>]"
      ]
     },
     "execution_count": 11,
     "metadata": {},
     "output_type": "execute_result"
    }
   ],
   "source": [
    "title_tags1= driver.find_elements_by_xpath('//a[@class=\"title fw500 ellipsis\"]')\n",
    "title_tags1"
   ]
  },
  {
   "cell_type": "code",
   "execution_count": 12,
   "metadata": {},
   "outputs": [
    {
     "data": {
      "text/plain": [
       "['Senior Data Analyst - Einstein Analytics',\n",
       " 'Data Analyst - 0-2 years (6 month contract)',\n",
       " 'Data Analyst',\n",
       " 'Data Analyst',\n",
       " 'Senior Data Analyst',\n",
       " 'SQL Data Analyst',\n",
       " 'Senior Business Analyst- Data Science',\n",
       " 'Business/Data Analyst - Colleague Experience & Technology',\n",
       " 'Senior Data Analyst',\n",
       " 'Data Analyst (SQL+Predictive Analytics+ Python)',\n",
       " 'Data Analyst',\n",
       " 'Data Analyst - Work from Home',\n",
       " 'Staff Engineer, Global Operations - Data analyst Tableau',\n",
       " 'Business/Data Analyst - SSE/LA',\n",
       " 'Business Data Analyst II',\n",
       " 'Business Data Analyst',\n",
       " 'Business Data Analyst',\n",
       " 'Data Analyst',\n",
       " 'Data Analyst - Transportation',\n",
       " 'DMI Hiring Data Analyst in Bangalore']"
      ]
     },
     "execution_count": 12,
     "metadata": {},
     "output_type": "execute_result"
    }
   ],
   "source": [
    "job_titles1 = []\n",
    "for i in title_tags1:\n",
    "    job_titles1.append(i.text)\n",
    "job_titles1"
   ]
  },
  {
   "cell_type": "code",
   "execution_count": 13,
   "metadata": {},
   "outputs": [
    {
     "data": {
      "text/plain": [
       "[<selenium.webdriver.remote.webelement.WebElement (session=\"d66aff6eb033f72dc740203b68301736\", element=\"3df4048b-b493-4b51-8b52-303d72e2556b\")>,\n",
       " <selenium.webdriver.remote.webelement.WebElement (session=\"d66aff6eb033f72dc740203b68301736\", element=\"e9655c23-0594-458f-80bb-b1b0dacc21a8\")>,\n",
       " <selenium.webdriver.remote.webelement.WebElement (session=\"d66aff6eb033f72dc740203b68301736\", element=\"4b789894-cbe6-45ca-9888-6b9208e21752\")>,\n",
       " <selenium.webdriver.remote.webelement.WebElement (session=\"d66aff6eb033f72dc740203b68301736\", element=\"306f09d8-5c1a-4c5a-a2bb-5c1bb4f0bf8f\")>,\n",
       " <selenium.webdriver.remote.webelement.WebElement (session=\"d66aff6eb033f72dc740203b68301736\", element=\"ebb33e4e-445f-4b6f-b5d6-8a3259ad70f9\")>,\n",
       " <selenium.webdriver.remote.webelement.WebElement (session=\"d66aff6eb033f72dc740203b68301736\", element=\"70b9b219-5193-4a30-8f22-633b37c4733a\")>,\n",
       " <selenium.webdriver.remote.webelement.WebElement (session=\"d66aff6eb033f72dc740203b68301736\", element=\"56418659-ffd4-466d-8eb8-9974137995ec\")>,\n",
       " <selenium.webdriver.remote.webelement.WebElement (session=\"d66aff6eb033f72dc740203b68301736\", element=\"488994c8-55fa-484c-ad61-0ab62d907e08\")>,\n",
       " <selenium.webdriver.remote.webelement.WebElement (session=\"d66aff6eb033f72dc740203b68301736\", element=\"2548acac-78b5-44cd-89c0-f4cb053bdca6\")>,\n",
       " <selenium.webdriver.remote.webelement.WebElement (session=\"d66aff6eb033f72dc740203b68301736\", element=\"83923b11-33f8-498c-b78b-88cd5b5262cc\")>,\n",
       " <selenium.webdriver.remote.webelement.WebElement (session=\"d66aff6eb033f72dc740203b68301736\", element=\"7c6bad58-2a6b-4c46-b161-7cc143043bc9\")>,\n",
       " <selenium.webdriver.remote.webelement.WebElement (session=\"d66aff6eb033f72dc740203b68301736\", element=\"4c5e7a86-c9a9-48b5-9c19-f5da49858f67\")>,\n",
       " <selenium.webdriver.remote.webelement.WebElement (session=\"d66aff6eb033f72dc740203b68301736\", element=\"bac79af1-a282-47c2-b6fd-af69231a1ef3\")>,\n",
       " <selenium.webdriver.remote.webelement.WebElement (session=\"d66aff6eb033f72dc740203b68301736\", element=\"c01e6b0a-38c6-42aa-8de1-95c0cb17318e\")>,\n",
       " <selenium.webdriver.remote.webelement.WebElement (session=\"d66aff6eb033f72dc740203b68301736\", element=\"1a7d542b-5681-42aa-8a9d-aabe540ed48b\")>,\n",
       " <selenium.webdriver.remote.webelement.WebElement (session=\"d66aff6eb033f72dc740203b68301736\", element=\"5fdc6d16-ea52-4057-8425-371bb1ff51ba\")>,\n",
       " <selenium.webdriver.remote.webelement.WebElement (session=\"d66aff6eb033f72dc740203b68301736\", element=\"8eb06ea4-5e82-4b59-a2af-b350fac2db4f\")>,\n",
       " <selenium.webdriver.remote.webelement.WebElement (session=\"d66aff6eb033f72dc740203b68301736\", element=\"9abc4586-6524-418a-aebb-7ceb67e90cc5\")>,\n",
       " <selenium.webdriver.remote.webelement.WebElement (session=\"d66aff6eb033f72dc740203b68301736\", element=\"2e6d05dc-6421-455b-b9b9-2e548d309e38\")>,\n",
       " <selenium.webdriver.remote.webelement.WebElement (session=\"d66aff6eb033f72dc740203b68301736\", element=\"a855861d-7572-46bf-99d9-67cfe4a1ce16\")>]"
      ]
     },
     "execution_count": 13,
     "metadata": {},
     "output_type": "execute_result"
    }
   ],
   "source": [
    "companies_tag1 = driver.find_elements_by_xpath('//a[@class=\"subTitle ellipsis fleft\"]')\n",
    "companies_tag1"
   ]
  },
  {
   "cell_type": "code",
   "execution_count": 14,
   "metadata": {},
   "outputs": [
    {
     "data": {
      "text/plain": [
       "['Enquero',\n",
       " 'NIUM INDIA PRIVATE LIMITED',\n",
       " 'CAREERLABS TECHNOLOGIES PRIVATE LIMITED',\n",
       " 'Tata Consultancy Services Ltd.',\n",
       " 'Nx-DT',\n",
       " 'NetApp',\n",
       " 'Evalueserve.com Pvt. Ltd',\n",
       " 'Vmware',\n",
       " 'Telstra India Pvt Ltd',\n",
       " 'AVE-Promagne',\n",
       " 'Allegis Services India Pvt. Ltd.',\n",
       " 'POWER STORES E COMMERCE PRIVATE LIMITED',\n",
       " 'Western Digital',\n",
       " 'CGI Information Systems and Management Consultants',\n",
       " 'Infobahn Softworld Inc.',\n",
       " 'Trigent Software',\n",
       " 'Trigent Software',\n",
       " 'WEIWO Communication Pvt. Ltd.',\n",
       " 'Gojek Tech',\n",
       " 'DMI Innovations Pvt. Ltd']"
      ]
     },
     "execution_count": 14,
     "metadata": {},
     "output_type": "execute_result"
    }
   ],
   "source": [
    "company_name1 = []\n",
    "\n",
    "for i in companies_tag1:\n",
    "    company_name1.append(i.text)\n",
    "company_name1"
   ]
  },
  {
   "cell_type": "code",
   "execution_count": 15,
   "metadata": {},
   "outputs": [
    {
     "data": {
      "text/plain": [
       "[<selenium.webdriver.remote.webelement.WebElement (session=\"d66aff6eb033f72dc740203b68301736\", element=\"d7e668bf-56cc-4cfe-b519-4dfe1ab56efd\")>,\n",
       " <selenium.webdriver.remote.webelement.WebElement (session=\"d66aff6eb033f72dc740203b68301736\", element=\"31a0a5fe-25ff-4d68-851c-60d5d60d971b\")>,\n",
       " <selenium.webdriver.remote.webelement.WebElement (session=\"d66aff6eb033f72dc740203b68301736\", element=\"67abedb1-4b64-4bc4-be02-34de1c58f7c8\")>,\n",
       " <selenium.webdriver.remote.webelement.WebElement (session=\"d66aff6eb033f72dc740203b68301736\", element=\"09c690cb-cd4c-4d87-9f9e-88a6a2b392f9\")>,\n",
       " <selenium.webdriver.remote.webelement.WebElement (session=\"d66aff6eb033f72dc740203b68301736\", element=\"5203a8be-2883-4686-8382-e1f9144bc377\")>,\n",
       " <selenium.webdriver.remote.webelement.WebElement (session=\"d66aff6eb033f72dc740203b68301736\", element=\"0170c09a-1f10-4b42-b4dd-30460c4aa39a\")>,\n",
       " <selenium.webdriver.remote.webelement.WebElement (session=\"d66aff6eb033f72dc740203b68301736\", element=\"5cc79952-8b59-41b9-9b35-5045dbc5c74a\")>,\n",
       " <selenium.webdriver.remote.webelement.WebElement (session=\"d66aff6eb033f72dc740203b68301736\", element=\"40e01dfd-c896-4a87-aa4d-f1edc33a8b53\")>,\n",
       " <selenium.webdriver.remote.webelement.WebElement (session=\"d66aff6eb033f72dc740203b68301736\", element=\"231db4bf-b48f-40b5-b680-04c6318ade95\")>,\n",
       " <selenium.webdriver.remote.webelement.WebElement (session=\"d66aff6eb033f72dc740203b68301736\", element=\"a05f6ee2-3924-4444-aa2b-4495981d759b\")>,\n",
       " <selenium.webdriver.remote.webelement.WebElement (session=\"d66aff6eb033f72dc740203b68301736\", element=\"f4892873-e1c1-4f14-abda-ca0bc9f28932\")>,\n",
       " <selenium.webdriver.remote.webelement.WebElement (session=\"d66aff6eb033f72dc740203b68301736\", element=\"d73c3843-e470-4100-b8cb-6525d352f989\")>,\n",
       " <selenium.webdriver.remote.webelement.WebElement (session=\"d66aff6eb033f72dc740203b68301736\", element=\"05d9d45d-f8fc-4d8d-8198-e36918923711\")>,\n",
       " <selenium.webdriver.remote.webelement.WebElement (session=\"d66aff6eb033f72dc740203b68301736\", element=\"bf22bd1a-c66f-4d3a-8a7f-6420a3e5fc4d\")>,\n",
       " <selenium.webdriver.remote.webelement.WebElement (session=\"d66aff6eb033f72dc740203b68301736\", element=\"5e20bec3-b1ad-4958-9cca-626c1a18c53b\")>,\n",
       " <selenium.webdriver.remote.webelement.WebElement (session=\"d66aff6eb033f72dc740203b68301736\", element=\"c1f26721-e7ba-4a30-ab58-c860205beb96\")>,\n",
       " <selenium.webdriver.remote.webelement.WebElement (session=\"d66aff6eb033f72dc740203b68301736\", element=\"def0620d-55c0-4649-aef5-753e5e334dad\")>,\n",
       " <selenium.webdriver.remote.webelement.WebElement (session=\"d66aff6eb033f72dc740203b68301736\", element=\"1c970cdf-9fd4-4514-b45d-306e4c99cc62\")>,\n",
       " <selenium.webdriver.remote.webelement.WebElement (session=\"d66aff6eb033f72dc740203b68301736\", element=\"cc9ca0d2-cddc-4993-8618-2af0686ca170\")>,\n",
       " <selenium.webdriver.remote.webelement.WebElement (session=\"d66aff6eb033f72dc740203b68301736\", element=\"6bf47286-f544-4cb9-89c2-273f1cbb8e7b\")>]"
      ]
     },
     "execution_count": 15,
     "metadata": {},
     "output_type": "execute_result"
    }
   ],
   "source": [
    "experience_tags1=driver.find_elements_by_xpath('//li[@class=\"fleft grey-text br2 placeHolderLi experience\"]//span')\n",
    "experience_tags1"
   ]
  },
  {
   "cell_type": "code",
   "execution_count": 16,
   "metadata": {},
   "outputs": [
    {
     "data": {
      "text/plain": [
       "['3-5 Yrs',\n",
       " '0-2 Yrs',\n",
       " '0-3 Yrs',\n",
       " '4-8 Yrs',\n",
       " '10-16 Yrs',\n",
       " '3-7 Yrs',\n",
       " '2-7 Yrs',\n",
       " '3-8 Yrs',\n",
       " '7-8 Yrs',\n",
       " '1-3 Yrs',\n",
       " '8-13 Yrs',\n",
       " '2-5 Yrs',\n",
       " '5-7 Yrs',\n",
       " '2-5 Yrs',\n",
       " '5-8 Yrs',\n",
       " '3-5 Yrs',\n",
       " '3-5 Yrs',\n",
       " '4-8 Yrs',\n",
       " '2-5 Yrs',\n",
       " '4-8 Yrs']"
      ]
     },
     "execution_count": 16,
     "metadata": {},
     "output_type": "execute_result"
    }
   ],
   "source": [
    "experience_list1 = []\n",
    "for i in experience_tags1:\n",
    "    experience_list1.append(i.text)\n",
    "experience_list1"
   ]
  },
  {
   "cell_type": "code",
   "execution_count": 17,
   "metadata": {},
   "outputs": [
    {
     "data": {
      "text/plain": [
       "[<selenium.webdriver.remote.webelement.WebElement (session=\"d66aff6eb033f72dc740203b68301736\", element=\"ada04ea8-902e-4be5-bc5e-da803d7b6f31\")>,\n",
       " <selenium.webdriver.remote.webelement.WebElement (session=\"d66aff6eb033f72dc740203b68301736\", element=\"5f06da8b-0859-4aa7-84f3-c72c30cc23f5\")>,\n",
       " <selenium.webdriver.remote.webelement.WebElement (session=\"d66aff6eb033f72dc740203b68301736\", element=\"ed50dabc-792c-4fa9-98b1-994a0905fd8b\")>,\n",
       " <selenium.webdriver.remote.webelement.WebElement (session=\"d66aff6eb033f72dc740203b68301736\", element=\"1c40a0b8-7548-4178-88fe-94812d0846cb\")>,\n",
       " <selenium.webdriver.remote.webelement.WebElement (session=\"d66aff6eb033f72dc740203b68301736\", element=\"219305b0-fc01-49a7-ad44-23df47a1af0c\")>,\n",
       " <selenium.webdriver.remote.webelement.WebElement (session=\"d66aff6eb033f72dc740203b68301736\", element=\"230cee4b-c23e-4cbd-b8bb-dc8b5f6b9d9d\")>,\n",
       " <selenium.webdriver.remote.webelement.WebElement (session=\"d66aff6eb033f72dc740203b68301736\", element=\"699744a3-9ef5-42d1-bf91-e70abcda5565\")>,\n",
       " <selenium.webdriver.remote.webelement.WebElement (session=\"d66aff6eb033f72dc740203b68301736\", element=\"06c5ab13-965b-410d-ba22-2a4f8fcfed79\")>,\n",
       " <selenium.webdriver.remote.webelement.WebElement (session=\"d66aff6eb033f72dc740203b68301736\", element=\"816c8a6f-7e71-4cf1-b6cf-976c45dc0333\")>,\n",
       " <selenium.webdriver.remote.webelement.WebElement (session=\"d66aff6eb033f72dc740203b68301736\", element=\"354afaf3-98de-483e-b5ab-a08fed580e53\")>,\n",
       " <selenium.webdriver.remote.webelement.WebElement (session=\"d66aff6eb033f72dc740203b68301736\", element=\"9ea1b0f4-c7ef-4560-bf7b-7985d3c0f32a\")>,\n",
       " <selenium.webdriver.remote.webelement.WebElement (session=\"d66aff6eb033f72dc740203b68301736\", element=\"346c9ffe-ebc2-4ff9-922d-208c2e194672\")>,\n",
       " <selenium.webdriver.remote.webelement.WebElement (session=\"d66aff6eb033f72dc740203b68301736\", element=\"612c474d-7d65-42b4-a03c-f741101ec6a2\")>,\n",
       " <selenium.webdriver.remote.webelement.WebElement (session=\"d66aff6eb033f72dc740203b68301736\", element=\"3011392b-dc69-4bcc-a83c-a3c70c9d5032\")>,\n",
       " <selenium.webdriver.remote.webelement.WebElement (session=\"d66aff6eb033f72dc740203b68301736\", element=\"a2d6e9ca-9475-4c0b-931f-90e8c8def99a\")>,\n",
       " <selenium.webdriver.remote.webelement.WebElement (session=\"d66aff6eb033f72dc740203b68301736\", element=\"71c60c59-e708-4698-bde0-4a2c33ad5abd\")>,\n",
       " <selenium.webdriver.remote.webelement.WebElement (session=\"d66aff6eb033f72dc740203b68301736\", element=\"8b17858e-fad1-4ae2-9da9-ae6f812598b1\")>,\n",
       " <selenium.webdriver.remote.webelement.WebElement (session=\"d66aff6eb033f72dc740203b68301736\", element=\"17fab59f-65ad-456a-a9e5-b5ddfeddb9f4\")>,\n",
       " <selenium.webdriver.remote.webelement.WebElement (session=\"d66aff6eb033f72dc740203b68301736\", element=\"6573413b-9b44-4661-a042-1b2ddd26a351\")>,\n",
       " <selenium.webdriver.remote.webelement.WebElement (session=\"d66aff6eb033f72dc740203b68301736\", element=\"8727285d-8fdb-4021-94bc-1a51302c241a\")>,\n",
       " <selenium.webdriver.remote.webelement.WebElement (session=\"d66aff6eb033f72dc740203b68301736\", element=\"6ae624e4-ed22-49d5-ace6-d3ba1b891a49\")>,\n",
       " <selenium.webdriver.remote.webelement.WebElement (session=\"d66aff6eb033f72dc740203b68301736\", element=\"e327b4e1-bae6-403b-b643-d9a15d6a1463\")>,\n",
       " <selenium.webdriver.remote.webelement.WebElement (session=\"d66aff6eb033f72dc740203b68301736\", element=\"1120774e-a7a4-4c0f-977b-4b35c9ac5cda\")>]"
      ]
     },
     "execution_count": 17,
     "metadata": {},
     "output_type": "execute_result"
    }
   ],
   "source": [
    "location_tags1 = driver.find_elements_by_xpath('//li[@class=\"fleft grey-text br2 placeHolderLi location\"]//span')\n",
    "location_tags1"
   ]
  },
  {
   "cell_type": "code",
   "execution_count": 18,
   "metadata": {},
   "outputs": [
    {
     "data": {
      "text/plain": [
       "['Hyderabad/Secunderabad, Bangalore/Bengaluru',\n",
       " 'New Delhi, Gurgaon/Gurugram, Chennai, Bangalore/Bengaluru, Mumbai (All Areas)',\n",
       " '(WFH during Covid)',\n",
       " 'Bangalore/Bengaluru',\n",
       " '(WFH during Covid)',\n",
       " 'Pune, Chennai, Bangalore/Bengaluru',\n",
       " 'Hyderabad/Secunderabad, Pune, Bangalore/Bengaluru',\n",
       " '(WFH during Covid)',\n",
       " 'Bangalore/Bengaluru',\n",
       " 'Bangalore/Bengaluru(Whitefield)',\n",
       " 'Bangalore/Bengaluru',\n",
       " 'Bangalore/Bengaluru',\n",
       " 'Bangalore/Bengaluru',\n",
       " 'Bangalore/Bengaluru',\n",
       " 'Pune, Bangalore/Bengaluru, Mumbai (All Areas)',\n",
       " 'Bangalore/Bengaluru',\n",
       " 'Bangalore/Bengaluru',\n",
       " 'Bangalore/Bengaluru',\n",
       " 'Bangalore/Bengaluru',\n",
       " 'Bangalore/Bengaluru',\n",
       " 'Bangalore/Bengaluru(Ulsoor)',\n",
       " 'Bangalore/Bengaluru',\n",
       " 'Bangalore/Bengaluru']"
      ]
     },
     "execution_count": 18,
     "metadata": {},
     "output_type": "execute_result"
    }
   ],
   "source": [
    "location1 = []\n",
    "for i in location_tags1:\n",
    "    location1.append(i.text)\n",
    "location1"
   ]
  },
  {
   "cell_type": "code",
   "execution_count": 19,
   "metadata": {},
   "outputs": [
    {
     "data": {
      "text/html": [
       "<div>\n",
       "<style scoped>\n",
       "    .dataframe tbody tr th:only-of-type {\n",
       "        vertical-align: middle;\n",
       "    }\n",
       "\n",
       "    .dataframe tbody tr th {\n",
       "        vertical-align: top;\n",
       "    }\n",
       "\n",
       "    .dataframe thead th {\n",
       "        text-align: right;\n",
       "    }\n",
       "</style>\n",
       "<table border=\"1\" class=\"dataframe\">\n",
       "  <thead>\n",
       "    <tr style=\"text-align: right;\">\n",
       "      <th></th>\n",
       "      <th>TITLE</th>\n",
       "      <th>LOCATION</th>\n",
       "      <th>COMPANY</th>\n",
       "      <th>EXPERIENCE REQUIRED</th>\n",
       "    </tr>\n",
       "  </thead>\n",
       "  <tbody>\n",
       "    <tr>\n",
       "      <th>0</th>\n",
       "      <td>Senior Data Analyst - Einstein Analytics</td>\n",
       "      <td>Hyderabad/Secunderabad, Bangalore/Bengaluru</td>\n",
       "      <td>Enquero</td>\n",
       "      <td>3-5 Yrs</td>\n",
       "    </tr>\n",
       "    <tr>\n",
       "      <th>1</th>\n",
       "      <td>Data Analyst - 0-2 years (6 month contract)</td>\n",
       "      <td>New Delhi, Gurgaon/Gurugram, Chennai, Bangalor...</td>\n",
       "      <td>NIUM INDIA PRIVATE LIMITED</td>\n",
       "      <td>0-2 Yrs</td>\n",
       "    </tr>\n",
       "    <tr>\n",
       "      <th>2</th>\n",
       "      <td>Data Analyst</td>\n",
       "      <td>(WFH during Covid)</td>\n",
       "      <td>CAREERLABS TECHNOLOGIES PRIVATE LIMITED</td>\n",
       "      <td>0-3 Yrs</td>\n",
       "    </tr>\n",
       "    <tr>\n",
       "      <th>3</th>\n",
       "      <td>Data Analyst</td>\n",
       "      <td>Bangalore/Bengaluru</td>\n",
       "      <td>Tata Consultancy Services Ltd.</td>\n",
       "      <td>4-8 Yrs</td>\n",
       "    </tr>\n",
       "    <tr>\n",
       "      <th>4</th>\n",
       "      <td>Senior Data Analyst</td>\n",
       "      <td>(WFH during Covid)</td>\n",
       "      <td>Nx-DT</td>\n",
       "      <td>10-16 Yrs</td>\n",
       "    </tr>\n",
       "    <tr>\n",
       "      <th>5</th>\n",
       "      <td>SQL Data Analyst</td>\n",
       "      <td>Pune, Chennai, Bangalore/Bengaluru</td>\n",
       "      <td>NetApp</td>\n",
       "      <td>3-7 Yrs</td>\n",
       "    </tr>\n",
       "    <tr>\n",
       "      <th>6</th>\n",
       "      <td>Senior Business Analyst- Data Science</td>\n",
       "      <td>Hyderabad/Secunderabad, Pune, Bangalore/Bengaluru</td>\n",
       "      <td>Evalueserve.com Pvt. Ltd</td>\n",
       "      <td>2-7 Yrs</td>\n",
       "    </tr>\n",
       "    <tr>\n",
       "      <th>7</th>\n",
       "      <td>Business/Data Analyst - Colleague Experience &amp;...</td>\n",
       "      <td>(WFH during Covid)</td>\n",
       "      <td>Vmware</td>\n",
       "      <td>3-8 Yrs</td>\n",
       "    </tr>\n",
       "    <tr>\n",
       "      <th>8</th>\n",
       "      <td>Senior Data Analyst</td>\n",
       "      <td>Bangalore/Bengaluru</td>\n",
       "      <td>Telstra India Pvt Ltd</td>\n",
       "      <td>7-8 Yrs</td>\n",
       "    </tr>\n",
       "    <tr>\n",
       "      <th>9</th>\n",
       "      <td>Data Analyst (SQL+Predictive Analytics+ Python)</td>\n",
       "      <td>Bangalore/Bengaluru(Whitefield)</td>\n",
       "      <td>AVE-Promagne</td>\n",
       "      <td>1-3 Yrs</td>\n",
       "    </tr>\n",
       "  </tbody>\n",
       "</table>\n",
       "</div>"
      ],
      "text/plain": [
       "                                               TITLE  \\\n",
       "0           Senior Data Analyst - Einstein Analytics   \n",
       "1        Data Analyst - 0-2 years (6 month contract)   \n",
       "2                                       Data Analyst   \n",
       "3                                       Data Analyst   \n",
       "4                                Senior Data Analyst   \n",
       "5                                   SQL Data Analyst   \n",
       "6              Senior Business Analyst- Data Science   \n",
       "7  Business/Data Analyst - Colleague Experience &...   \n",
       "8                                Senior Data Analyst   \n",
       "9    Data Analyst (SQL+Predictive Analytics+ Python)   \n",
       "\n",
       "                                            LOCATION  \\\n",
       "0        Hyderabad/Secunderabad, Bangalore/Bengaluru   \n",
       "1  New Delhi, Gurgaon/Gurugram, Chennai, Bangalor...   \n",
       "2                                 (WFH during Covid)   \n",
       "3                                Bangalore/Bengaluru   \n",
       "4                                 (WFH during Covid)   \n",
       "5                 Pune, Chennai, Bangalore/Bengaluru   \n",
       "6  Hyderabad/Secunderabad, Pune, Bangalore/Bengaluru   \n",
       "7                                 (WFH during Covid)   \n",
       "8                                Bangalore/Bengaluru   \n",
       "9                    Bangalore/Bengaluru(Whitefield)   \n",
       "\n",
       "                                   COMPANY EXPERIENCE REQUIRED  \n",
       "0                                  Enquero             3-5 Yrs  \n",
       "1               NIUM INDIA PRIVATE LIMITED             0-2 Yrs  \n",
       "2  CAREERLABS TECHNOLOGIES PRIVATE LIMITED             0-3 Yrs  \n",
       "3           Tata Consultancy Services Ltd.             4-8 Yrs  \n",
       "4                                    Nx-DT           10-16 Yrs  \n",
       "5                                   NetApp             3-7 Yrs  \n",
       "6                 Evalueserve.com Pvt. Ltd             2-7 Yrs  \n",
       "7                                   Vmware             3-8 Yrs  \n",
       "8                    Telstra India Pvt Ltd             7-8 Yrs  \n",
       "9                             AVE-Promagne             1-3 Yrs  "
      ]
     },
     "execution_count": 19,
     "metadata": {},
     "output_type": "execute_result"
    }
   ],
   "source": [
    "jobs1 = pd.DataFrame({})\n",
    "jobs1['TITLE'] = job_titles1[0:10]\n",
    "jobs1['LOCATION'] = location1[0:10]\n",
    "jobs1['COMPANY'] = company_name1[0:10]\n",
    "jobs1['EXPERIENCE REQUIRED'] = experience_list1[0:10]\n",
    "jobs1"
   ]
  },
  {
   "cell_type": "markdown",
   "metadata": {},
   "source": [
    "# Q2. Data scientist job position in bangalore location from the webpage naukri.com."
   ]
  },
  {
   "cell_type": "code",
   "execution_count": 37,
   "metadata": {},
   "outputs": [],
   "source": [
    "driver = webdriver.Chrome('chromedriver.exe')"
   ]
  },
  {
   "cell_type": "code",
   "execution_count": 38,
   "metadata": {},
   "outputs": [],
   "source": [
    "url = 'https://naukri.com'\n",
    "driver.get(url)"
   ]
  },
  {
   "cell_type": "code",
   "execution_count": 39,
   "metadata": {},
   "outputs": [
    {
     "data": {
      "text/plain": [
       "<selenium.webdriver.remote.webelement.WebElement (session=\"9155026372c8d473f58ada90a455bc4b\", element=\"511378de-8275-4898-8aa3-a7f6bf741dd4\")>"
      ]
     },
     "execution_count": 39,
     "metadata": {},
     "output_type": "execute_result"
    }
   ],
   "source": [
    "search_job2 = driver.find_element_by_xpath('//input[@class=\"sugInp\"]')\n",
    "search_job2"
   ]
  },
  {
   "cell_type": "code",
   "execution_count": 40,
   "metadata": {},
   "outputs": [],
   "source": [
    "search_job2.send_keys(\"Data Scientist\")"
   ]
  },
  {
   "cell_type": "code",
   "execution_count": 41,
   "metadata": {
    "scrolled": true
   },
   "outputs": [],
   "source": [
    "search_loc2 = driver.find_element_by_id(\"qsb-location-sugg\")\n",
    "search_loc2.send_keys('Bangalore')"
   ]
  },
  {
   "cell_type": "code",
   "execution_count": 42,
   "metadata": {},
   "outputs": [
    {
     "data": {
      "text/plain": [
       "<selenium.webdriver.remote.webelement.WebElement (session=\"9155026372c8d473f58ada90a455bc4b\", element=\"580a8db4-d433-4864-b64c-3adcc89639f1\")>"
      ]
     },
     "execution_count": 42,
     "metadata": {},
     "output_type": "execute_result"
    }
   ],
   "source": [
    "search_button2 = driver.find_element_by_xpath('//button[@class=\"btn\"]')\n",
    "search_button2"
   ]
  },
  {
   "cell_type": "code",
   "execution_count": 43,
   "metadata": {},
   "outputs": [],
   "source": [
    "search_button2.click()"
   ]
  },
  {
   "cell_type": "code",
   "execution_count": 44,
   "metadata": {},
   "outputs": [
    {
     "data": {
      "text/plain": [
       "[<selenium.webdriver.remote.webelement.WebElement (session=\"9155026372c8d473f58ada90a455bc4b\", element=\"bde83913-e777-44c0-b543-708b00de0c32\")>,\n",
       " <selenium.webdriver.remote.webelement.WebElement (session=\"9155026372c8d473f58ada90a455bc4b\", element=\"3c8863df-f344-4656-8c5a-707f5f57684d\")>,\n",
       " <selenium.webdriver.remote.webelement.WebElement (session=\"9155026372c8d473f58ada90a455bc4b\", element=\"4087e6be-9e7f-4f8d-a7e8-acd1904e1264\")>,\n",
       " <selenium.webdriver.remote.webelement.WebElement (session=\"9155026372c8d473f58ada90a455bc4b\", element=\"b71952aa-d949-43ef-92ff-1597e3dcddb4\")>,\n",
       " <selenium.webdriver.remote.webelement.WebElement (session=\"9155026372c8d473f58ada90a455bc4b\", element=\"68f5aed4-9ba0-4ce5-8192-0353a91d1a67\")>,\n",
       " <selenium.webdriver.remote.webelement.WebElement (session=\"9155026372c8d473f58ada90a455bc4b\", element=\"ab147103-f297-4c40-ba9f-8b5a4f834632\")>,\n",
       " <selenium.webdriver.remote.webelement.WebElement (session=\"9155026372c8d473f58ada90a455bc4b\", element=\"697e960b-098c-4c15-a634-309de1208337\")>,\n",
       " <selenium.webdriver.remote.webelement.WebElement (session=\"9155026372c8d473f58ada90a455bc4b\", element=\"65f77d9a-05fd-4f8e-bc48-1f762908c868\")>,\n",
       " <selenium.webdriver.remote.webelement.WebElement (session=\"9155026372c8d473f58ada90a455bc4b\", element=\"53dc709d-163f-4675-8eaa-76961d0f35c5\")>,\n",
       " <selenium.webdriver.remote.webelement.WebElement (session=\"9155026372c8d473f58ada90a455bc4b\", element=\"671332f3-500a-4849-b511-93c859973af8\")>,\n",
       " <selenium.webdriver.remote.webelement.WebElement (session=\"9155026372c8d473f58ada90a455bc4b\", element=\"6aabbcba-14c4-4a0e-ac55-6134c63a58aa\")>,\n",
       " <selenium.webdriver.remote.webelement.WebElement (session=\"9155026372c8d473f58ada90a455bc4b\", element=\"fce089ad-6886-4c85-a104-a79a3249f9f2\")>,\n",
       " <selenium.webdriver.remote.webelement.WebElement (session=\"9155026372c8d473f58ada90a455bc4b\", element=\"b47affcf-7e44-48a3-8eb3-583ff86f3b99\")>,\n",
       " <selenium.webdriver.remote.webelement.WebElement (session=\"9155026372c8d473f58ada90a455bc4b\", element=\"f0b0cc01-9e06-4e4f-9b0f-0a7851a28f08\")>,\n",
       " <selenium.webdriver.remote.webelement.WebElement (session=\"9155026372c8d473f58ada90a455bc4b\", element=\"2af8c214-7c8b-41cf-98b8-249fa8a9a457\")>,\n",
       " <selenium.webdriver.remote.webelement.WebElement (session=\"9155026372c8d473f58ada90a455bc4b\", element=\"21b34121-6a15-4aeb-b123-eb1dc9d1a658\")>,\n",
       " <selenium.webdriver.remote.webelement.WebElement (session=\"9155026372c8d473f58ada90a455bc4b\", element=\"0fead76c-72f4-464a-94b6-f30d59f0613d\")>,\n",
       " <selenium.webdriver.remote.webelement.WebElement (session=\"9155026372c8d473f58ada90a455bc4b\", element=\"c0429602-3132-410e-971b-c996174202d0\")>,\n",
       " <selenium.webdriver.remote.webelement.WebElement (session=\"9155026372c8d473f58ada90a455bc4b\", element=\"65455d60-0d3f-43d1-96ec-d02aa45a5425\")>,\n",
       " <selenium.webdriver.remote.webelement.WebElement (session=\"9155026372c8d473f58ada90a455bc4b\", element=\"6fcb9e53-3f65-4bfa-84dc-422c51d5624f\")>]"
      ]
     },
     "execution_count": 44,
     "metadata": {},
     "output_type": "execute_result"
    }
   ],
   "source": [
    "title_tags2 = driver.find_elements_by_xpath('//a[@class=\"title fw500 ellipsis\"]')\n",
    "title_tags2"
   ]
  },
  {
   "cell_type": "code",
   "execution_count": 45,
   "metadata": {},
   "outputs": [
    {
     "data": {
      "text/plain": [
       "['Data Scientist- Senior Business Analyst/Lead Analyst',\n",
       " 'Lead Data Scientist - Retail Industry',\n",
       " 'Senior/ Lead Data Scientist',\n",
       " 'Data Scientist: Advanced Analytics',\n",
       " 'Data Scientist',\n",
       " 'Senior Data Scientist',\n",
       " 'Senior Data Scientist',\n",
       " 'Lead Data Scientist',\n",
       " 'Lead Data Scientist',\n",
       " 'Senior Data Scientist / Tech Lead - Data Science',\n",
       " 'Senior Data Scientist - KPO',\n",
       " 'Data Scientist',\n",
       " 'Data Scientist- Natural Language Processing (Hyderabad Location)',\n",
       " 'Looking For Data Scientist For Chennai Location',\n",
       " 'Data Scientist',\n",
       " 'Data Scientist',\n",
       " 'Data Scientist: Artificial Intelligence',\n",
       " 'Data Scientist: Artificial Intelligence',\n",
       " 'Data Scientist',\n",
       " 'Data Scientist: Advanced Analytics']"
      ]
     },
     "execution_count": 45,
     "metadata": {},
     "output_type": "execute_result"
    }
   ],
   "source": [
    "job_titles2 = []\n",
    "for i in title_tags2:\n",
    "    job_titles2.append(i.text)\n",
    "job_titles2"
   ]
  },
  {
   "cell_type": "code",
   "execution_count": 46,
   "metadata": {},
   "outputs": [
    {
     "data": {
      "text/plain": [
       "[<selenium.webdriver.remote.webelement.WebElement (session=\"9155026372c8d473f58ada90a455bc4b\", element=\"879b1252-dfdd-464f-a02f-1a978c195d7c\")>,\n",
       " <selenium.webdriver.remote.webelement.WebElement (session=\"9155026372c8d473f58ada90a455bc4b\", element=\"aa420a70-a6d9-4c7d-8512-fdc7f6753f92\")>,\n",
       " <selenium.webdriver.remote.webelement.WebElement (session=\"9155026372c8d473f58ada90a455bc4b\", element=\"9abaa12a-1693-454c-b021-6235a922c00b\")>,\n",
       " <selenium.webdriver.remote.webelement.WebElement (session=\"9155026372c8d473f58ada90a455bc4b\", element=\"14e88fb6-1487-4f30-94fb-680e9a891eea\")>,\n",
       " <selenium.webdriver.remote.webelement.WebElement (session=\"9155026372c8d473f58ada90a455bc4b\", element=\"872400ac-5643-4244-b671-682383e600fb\")>,\n",
       " <selenium.webdriver.remote.webelement.WebElement (session=\"9155026372c8d473f58ada90a455bc4b\", element=\"e893a6cd-1074-41ec-bb1a-5902a61c7dcf\")>,\n",
       " <selenium.webdriver.remote.webelement.WebElement (session=\"9155026372c8d473f58ada90a455bc4b\", element=\"12d0cd12-cc7a-4be0-bc5e-e075e0145678\")>,\n",
       " <selenium.webdriver.remote.webelement.WebElement (session=\"9155026372c8d473f58ada90a455bc4b\", element=\"8245096c-b336-4f38-9841-d17432b5ec7b\")>,\n",
       " <selenium.webdriver.remote.webelement.WebElement (session=\"9155026372c8d473f58ada90a455bc4b\", element=\"d62d2e37-9755-4a31-8851-f2f77d3fc106\")>,\n",
       " <selenium.webdriver.remote.webelement.WebElement (session=\"9155026372c8d473f58ada90a455bc4b\", element=\"89040d41-47f4-4c95-ab1a-08c44dea2f13\")>,\n",
       " <selenium.webdriver.remote.webelement.WebElement (session=\"9155026372c8d473f58ada90a455bc4b\", element=\"38f914a7-0210-45c3-89eb-6783009d8a84\")>,\n",
       " <selenium.webdriver.remote.webelement.WebElement (session=\"9155026372c8d473f58ada90a455bc4b\", element=\"b6fd2693-44bc-43a0-8b97-350d8da6f502\")>,\n",
       " <selenium.webdriver.remote.webelement.WebElement (session=\"9155026372c8d473f58ada90a455bc4b\", element=\"431bd1d7-ec92-4568-8438-a7c8728c3152\")>,\n",
       " <selenium.webdriver.remote.webelement.WebElement (session=\"9155026372c8d473f58ada90a455bc4b\", element=\"3092186f-cd1a-4b28-9f12-6aea4fc4d9da\")>,\n",
       " <selenium.webdriver.remote.webelement.WebElement (session=\"9155026372c8d473f58ada90a455bc4b\", element=\"01e3f7d9-6710-43ae-970b-c63f4b52fd20\")>,\n",
       " <selenium.webdriver.remote.webelement.WebElement (session=\"9155026372c8d473f58ada90a455bc4b\", element=\"46b9892e-da1c-4728-a406-03bec6e4b336\")>,\n",
       " <selenium.webdriver.remote.webelement.WebElement (session=\"9155026372c8d473f58ada90a455bc4b\", element=\"2cc3c756-128f-4c94-abb2-f35d8e9c18f7\")>,\n",
       " <selenium.webdriver.remote.webelement.WebElement (session=\"9155026372c8d473f58ada90a455bc4b\", element=\"46f2ac10-7ed1-439d-88f7-d842582fb64e\")>,\n",
       " <selenium.webdriver.remote.webelement.WebElement (session=\"9155026372c8d473f58ada90a455bc4b\", element=\"c2faaaed-ba42-4184-a5d2-a9925f16bc39\")>,\n",
       " <selenium.webdriver.remote.webelement.WebElement (session=\"9155026372c8d473f58ada90a455bc4b\", element=\"f77b897e-f1de-4a93-abc6-39eb7c0ed197\")>]"
      ]
     },
     "execution_count": 46,
     "metadata": {},
     "output_type": "execute_result"
    }
   ],
   "source": [
    "companies_tag2 = driver.find_elements_by_xpath('//a[@class=\"subTitle ellipsis fleft\"]')\n",
    "companies_tag2"
   ]
  },
  {
   "cell_type": "code",
   "execution_count": 47,
   "metadata": {},
   "outputs": [
    {
     "data": {
      "text/plain": [
       "['Evalueserve.com Pvt. Ltd',\n",
       " 'IBM India Pvt. Limited',\n",
       " 'Superior Group',\n",
       " 'IBM India Pvt. Limited',\n",
       " 'IBM India Pvt. Limited',\n",
       " 'SMITHS DETECTION SYSTEMS PRIVATE LIMITED',\n",
       " 'Cognizer India Private Limited',\n",
       " 'Zycus Infotech Pvt Ltd',\n",
       " 'TransOrg Solutions Services (P) Ltd.',\n",
       " 'Confidential',\n",
       " 'TalentCo Search Pvt Ltd',\n",
       " 'Cignex Datamatics Technologies Limited',\n",
       " 'Clifford Chance Business Services Private Limited',\n",
       " 'Intelizign Engineering Services Pvt Ltd',\n",
       " 'ELPIS IT SOLUTIONS PVT LTD',\n",
       " 'Cognizant Technology Solutions India Pvt Ltd',\n",
       " 'IBM India Pvt. Limited',\n",
       " 'IBM India Pvt. Limited',\n",
       " 'Oracle India Pvt. Ltd.',\n",
       " 'IBM India Pvt. Limited']"
      ]
     },
     "execution_count": 47,
     "metadata": {},
     "output_type": "execute_result"
    }
   ],
   "source": [
    "company_name2 = []\n",
    "\n",
    "for i in companies_tag2:\n",
    "    company_name2.append(i.text)\n",
    "company_name2"
   ]
  },
  {
   "cell_type": "code",
   "execution_count": 48,
   "metadata": {},
   "outputs": [
    {
     "data": {
      "text/plain": [
       "[<selenium.webdriver.remote.webelement.WebElement (session=\"9155026372c8d473f58ada90a455bc4b\", element=\"de542f0f-bb19-43ed-880b-52bb89d3d939\")>,\n",
       " <selenium.webdriver.remote.webelement.WebElement (session=\"9155026372c8d473f58ada90a455bc4b\", element=\"9db15395-058f-435b-9660-b0354089ed79\")>,\n",
       " <selenium.webdriver.remote.webelement.WebElement (session=\"9155026372c8d473f58ada90a455bc4b\", element=\"a5dd2858-2011-4fc3-b9bb-8caabe54f517\")>,\n",
       " <selenium.webdriver.remote.webelement.WebElement (session=\"9155026372c8d473f58ada90a455bc4b\", element=\"8eddf162-5cb2-443c-9a58-a5db63378529\")>,\n",
       " <selenium.webdriver.remote.webelement.WebElement (session=\"9155026372c8d473f58ada90a455bc4b\", element=\"572ac84f-7508-4d9e-b0ca-590208d1ecc9\")>,\n",
       " <selenium.webdriver.remote.webelement.WebElement (session=\"9155026372c8d473f58ada90a455bc4b\", element=\"c095af22-9313-4651-aff0-58125e5e0136\")>,\n",
       " <selenium.webdriver.remote.webelement.WebElement (session=\"9155026372c8d473f58ada90a455bc4b\", element=\"42c0024c-fd4f-46fe-a778-96e3314abae2\")>,\n",
       " <selenium.webdriver.remote.webelement.WebElement (session=\"9155026372c8d473f58ada90a455bc4b\", element=\"f6fcd82a-c6e8-491b-b12a-5717610e8f6b\")>,\n",
       " <selenium.webdriver.remote.webelement.WebElement (session=\"9155026372c8d473f58ada90a455bc4b\", element=\"c75480cc-a03d-4977-9cd0-b4d27db97f68\")>,\n",
       " <selenium.webdriver.remote.webelement.WebElement (session=\"9155026372c8d473f58ada90a455bc4b\", element=\"5b216183-5bf1-47da-83b5-f30091918418\")>,\n",
       " <selenium.webdriver.remote.webelement.WebElement (session=\"9155026372c8d473f58ada90a455bc4b\", element=\"bc2babf0-de1a-4881-9092-2b77edc9ed52\")>,\n",
       " <selenium.webdriver.remote.webelement.WebElement (session=\"9155026372c8d473f58ada90a455bc4b\", element=\"5f352df3-1d3a-459d-86bc-ea14cd3c122c\")>,\n",
       " <selenium.webdriver.remote.webelement.WebElement (session=\"9155026372c8d473f58ada90a455bc4b\", element=\"1f431ed8-2db3-4a00-a61f-3cb67453c2fc\")>,\n",
       " <selenium.webdriver.remote.webelement.WebElement (session=\"9155026372c8d473f58ada90a455bc4b\", element=\"a3fb4326-4105-4f1a-872f-e16130d0c2a1\")>,\n",
       " <selenium.webdriver.remote.webelement.WebElement (session=\"9155026372c8d473f58ada90a455bc4b\", element=\"ffef4aa0-c5fb-4080-b399-114d915c1334\")>,\n",
       " <selenium.webdriver.remote.webelement.WebElement (session=\"9155026372c8d473f58ada90a455bc4b\", element=\"a2983eff-4dda-4ac8-bfba-ad593b42c9f4\")>,\n",
       " <selenium.webdriver.remote.webelement.WebElement (session=\"9155026372c8d473f58ada90a455bc4b\", element=\"d3ce6d0f-dff5-41c8-973a-f144f47e9aac\")>,\n",
       " <selenium.webdriver.remote.webelement.WebElement (session=\"9155026372c8d473f58ada90a455bc4b\", element=\"05bad167-2ce8-4efd-aee0-46ff8e3ed018\")>,\n",
       " <selenium.webdriver.remote.webelement.WebElement (session=\"9155026372c8d473f58ada90a455bc4b\", element=\"6a59bc63-0413-4347-83e8-c457d61cad51\")>,\n",
       " <selenium.webdriver.remote.webelement.WebElement (session=\"9155026372c8d473f58ada90a455bc4b\", element=\"6e149b23-b051-456b-af1b-c82d7aa2c796\")>,\n",
       " <selenium.webdriver.remote.webelement.WebElement (session=\"9155026372c8d473f58ada90a455bc4b\", element=\"0636c836-661d-4f5f-8f46-f6a360c18b12\")>]"
      ]
     },
     "execution_count": 48,
     "metadata": {},
     "output_type": "execute_result"
    }
   ],
   "source": [
    "location_tags2=driver.find_elements_by_xpath('//li[@class=\"fleft grey-text br2 placeHolderLi location\"]//span')\n",
    "location_tags2"
   ]
  },
  {
   "cell_type": "code",
   "execution_count": 49,
   "metadata": {},
   "outputs": [
    {
     "data": {
      "text/plain": [
       "['Gurgaon/Gurugram, Bangalore/Bengaluru',\n",
       " 'Bangalore/Bengaluru',\n",
       " 'Bangalore/Bengaluru',\n",
       " 'Bangalore/Bengaluru',\n",
       " 'Bangalore/Bengaluru',\n",
       " 'Bangalore/Bengaluru',\n",
       " 'Bangalore/Bengaluru',\n",
       " 'Bangalore/Bengaluru',\n",
       " 'Bangalore/Bengaluru, Delhi / NCR, Mumbai (All Areas)',\n",
       " '(WFH during Covid)',\n",
       " 'Bangalore/Bengaluru, Delhi / NCR',\n",
       " 'Mumbai, Bangalore/Bengaluru, Delhi / NCR',\n",
       " 'Bangalore/Bengaluru',\n",
       " 'Hyderabad/Secunderabad, Pune, Chennai, Bangalore/Bengaluru',\n",
       " 'Hyderabad/Secunderabad, Chennai, Bangalore/Bengaluru',\n",
       " 'Bangalore/Bengaluru',\n",
       " 'Chennai, Bangalore/Bengaluru',\n",
       " 'Bangalore/Bengaluru',\n",
       " 'Bangalore/Bengaluru',\n",
       " 'Bangalore/Bengaluru',\n",
       " 'Bangalore/Bengaluru']"
      ]
     },
     "execution_count": 49,
     "metadata": {},
     "output_type": "execute_result"
    }
   ],
   "source": [
    "location2 = []\n",
    "for i in location_tags2:\n",
    "    location2.append(i.text)\n",
    "location2"
   ]
  },
  {
   "cell_type": "code",
   "execution_count": 50,
   "metadata": {},
   "outputs": [
    {
     "data": {
      "text/plain": [
       "[<selenium.webdriver.remote.webelement.WebElement (session=\"9155026372c8d473f58ada90a455bc4b\", element=\"0dbd4848-6594-4a14-bdba-d7974925872c\")>,\n",
       " <selenium.webdriver.remote.webelement.WebElement (session=\"9155026372c8d473f58ada90a455bc4b\", element=\"88eb7c59-9f4e-4f36-93c6-cfb054df703f\")>,\n",
       " <selenium.webdriver.remote.webelement.WebElement (session=\"9155026372c8d473f58ada90a455bc4b\", element=\"ee5b7984-2ded-4c5b-8930-f0f46a7bea50\")>,\n",
       " <selenium.webdriver.remote.webelement.WebElement (session=\"9155026372c8d473f58ada90a455bc4b\", element=\"831a4b48-975c-407c-bbe6-da84fc1113bb\")>,\n",
       " <selenium.webdriver.remote.webelement.WebElement (session=\"9155026372c8d473f58ada90a455bc4b\", element=\"5a42132f-3060-4292-aa2c-b2d691a484cc\")>,\n",
       " <selenium.webdriver.remote.webelement.WebElement (session=\"9155026372c8d473f58ada90a455bc4b\", element=\"23216d09-ad3f-4dfe-8fb9-227c71f7850f\")>,\n",
       " <selenium.webdriver.remote.webelement.WebElement (session=\"9155026372c8d473f58ada90a455bc4b\", element=\"ba3039e5-52fd-41e3-a8f1-c09d0ab7d187\")>,\n",
       " <selenium.webdriver.remote.webelement.WebElement (session=\"9155026372c8d473f58ada90a455bc4b\", element=\"f64d423f-2eb2-43f3-98cd-0799a6c29a72\")>,\n",
       " <selenium.webdriver.remote.webelement.WebElement (session=\"9155026372c8d473f58ada90a455bc4b\", element=\"0f547026-5981-4a26-b39e-2cbec7570dd3\")>,\n",
       " <selenium.webdriver.remote.webelement.WebElement (session=\"9155026372c8d473f58ada90a455bc4b\", element=\"7bc05adb-407f-43d1-b528-b05f903f3e8c\")>,\n",
       " <selenium.webdriver.remote.webelement.WebElement (session=\"9155026372c8d473f58ada90a455bc4b\", element=\"d6320d90-ee77-4247-a48d-f2fa10cb2107\")>,\n",
       " <selenium.webdriver.remote.webelement.WebElement (session=\"9155026372c8d473f58ada90a455bc4b\", element=\"93d22cfa-eade-4f6f-ade1-e17d5c906ed3\")>,\n",
       " <selenium.webdriver.remote.webelement.WebElement (session=\"9155026372c8d473f58ada90a455bc4b\", element=\"66007f7a-9948-4597-89e0-9f7f514096fe\")>,\n",
       " <selenium.webdriver.remote.webelement.WebElement (session=\"9155026372c8d473f58ada90a455bc4b\", element=\"e213bdc6-7216-4c4b-aa48-6906bd78466b\")>,\n",
       " <selenium.webdriver.remote.webelement.WebElement (session=\"9155026372c8d473f58ada90a455bc4b\", element=\"3a5bcf7f-9767-41c8-ae55-7853c71dcd99\")>,\n",
       " <selenium.webdriver.remote.webelement.WebElement (session=\"9155026372c8d473f58ada90a455bc4b\", element=\"b3dfafa4-39a4-41d5-9135-906fbcadc4b2\")>,\n",
       " <selenium.webdriver.remote.webelement.WebElement (session=\"9155026372c8d473f58ada90a455bc4b\", element=\"ebccc061-d41a-4da1-bd87-d8b264d98036\")>,\n",
       " <selenium.webdriver.remote.webelement.WebElement (session=\"9155026372c8d473f58ada90a455bc4b\", element=\"911c1149-2c71-4ae4-a252-7049ffd2a3a1\")>,\n",
       " <selenium.webdriver.remote.webelement.WebElement (session=\"9155026372c8d473f58ada90a455bc4b\", element=\"c1b73c13-920d-4ea8-abaa-e9b92adba258\")>,\n",
       " <selenium.webdriver.remote.webelement.WebElement (session=\"9155026372c8d473f58ada90a455bc4b\", element=\"a1b0d8cf-0802-472f-b4e0-8afa7e2354fb\")>]"
      ]
     },
     "execution_count": 50,
     "metadata": {},
     "output_type": "execute_result"
    }
   ],
   "source": [
    "description_tags2 = driver.find_elements_by_xpath('//div[@class=\"job-description fs12 grey-text\"]')\n",
    "description_tags2"
   ]
  },
  {
   "cell_type": "code",
   "execution_count": 51,
   "metadata": {},
   "outputs": [
    {
     "data": {
      "text/plain": [
       "['from a reputed institute Experience with cloud computing infrastructure, such as AWS / ...',\n",
       " 'As a Senior Data Scientist you will be at the forefront of this ride and get to work wi...',\n",
       " '3 years of experience performing predictive analytics at a large scale enterprise 3 yea...',\n",
       " 'As a Data Scientist at IBM, you will help transform our clients data into tangible busi...',\n",
       " 'Experience in creating and using advanced machine learning algorithms and statistics su...',\n",
       " 'Must possess at least a Bachelors degree in Electrical / Electronics Engineering and / ...',\n",
       " 'Roles and Responsibilities Strong in problem solving, algorithms and data structuresPro...',\n",
       " 'Move between Roles: We believe that change leads to growth and therefore we allow our e...',\n",
       " 'Bachelors in Computer Science, Engineering, Statistics, Maths or related quantitative d...',\n",
       " 'Education no bar, but preferably from a Statistics academic background (eg MSc-Stats, M...',\n",
       " 'Experience of working on end-to-end data science pipeline: problem scoping, data gather...',\n",
       " 'We have an urgent requirement for Data Scientist - Advanced Analytics',\n",
       " 'Previous experience with analysing and quantifying data from public and private reposit...',\n",
       " 'Preferrable Looking for Female Candidates3+ years of experience working on Data science...',\n",
       " 'Job Skills Required: Expert data science skills using supervised and unsupervised learn...',\n",
       " 'Shift : Day JobProven experience with below toolkits & technologies is a must: Statisti...',\n",
       " 'Minimum 4 years of experience in IT Industry Required Technical and Professional Expert...',\n",
       " 'Hands-on 2 years experience in real time Big Data projects is preferred Required Techni...',\n",
       " 'Roles and Responsibilities Looking for 6+ yrs of experience in data science, predictive...',\n",
       " 'As SAS Developer, you are responsible to develop and design analytical solutions and mo...']"
      ]
     },
     "execution_count": 51,
     "metadata": {},
     "output_type": "execute_result"
    }
   ],
   "source": [
    "full_description2 = []\n",
    "for i in description_tags2:\n",
    "    full_description2.append(i.text)\n",
    "full_description2"
   ]
  },
  {
   "cell_type": "code",
   "execution_count": 52,
   "metadata": {},
   "outputs": [
    {
     "data": {
      "text/html": [
       "<div>\n",
       "<style scoped>\n",
       "    .dataframe tbody tr th:only-of-type {\n",
       "        vertical-align: middle;\n",
       "    }\n",
       "\n",
       "    .dataframe tbody tr th {\n",
       "        vertical-align: top;\n",
       "    }\n",
       "\n",
       "    .dataframe thead th {\n",
       "        text-align: right;\n",
       "    }\n",
       "</style>\n",
       "<table border=\"1\" class=\"dataframe\">\n",
       "  <thead>\n",
       "    <tr style=\"text-align: right;\">\n",
       "      <th></th>\n",
       "      <th>TITLE</th>\n",
       "      <th>LOCATION</th>\n",
       "      <th>COMPANY</th>\n",
       "      <th>FULL DESCRIPTION</th>\n",
       "    </tr>\n",
       "  </thead>\n",
       "  <tbody>\n",
       "    <tr>\n",
       "      <th>0</th>\n",
       "      <td>Data Scientist- Senior Business Analyst/Lead A...</td>\n",
       "      <td>Gurgaon/Gurugram, Bangalore/Bengaluru</td>\n",
       "      <td>Evalueserve.com Pvt. Ltd</td>\n",
       "      <td>from a reputed institute Experience with cloud...</td>\n",
       "    </tr>\n",
       "    <tr>\n",
       "      <th>1</th>\n",
       "      <td>Lead Data Scientist - Retail Industry</td>\n",
       "      <td>Bangalore/Bengaluru</td>\n",
       "      <td>IBM India Pvt. Limited</td>\n",
       "      <td>As a Senior Data Scientist you will be at the ...</td>\n",
       "    </tr>\n",
       "    <tr>\n",
       "      <th>2</th>\n",
       "      <td>Senior/ Lead Data Scientist</td>\n",
       "      <td>Bangalore/Bengaluru</td>\n",
       "      <td>Superior Group</td>\n",
       "      <td>3 years of experience performing predictive an...</td>\n",
       "    </tr>\n",
       "    <tr>\n",
       "      <th>3</th>\n",
       "      <td>Data Scientist: Advanced Analytics</td>\n",
       "      <td>Bangalore/Bengaluru</td>\n",
       "      <td>IBM India Pvt. Limited</td>\n",
       "      <td>As a Data Scientist at IBM, you will help tran...</td>\n",
       "    </tr>\n",
       "    <tr>\n",
       "      <th>4</th>\n",
       "      <td>Data Scientist</td>\n",
       "      <td>Bangalore/Bengaluru</td>\n",
       "      <td>IBM India Pvt. Limited</td>\n",
       "      <td>Experience in creating and using advanced mach...</td>\n",
       "    </tr>\n",
       "    <tr>\n",
       "      <th>5</th>\n",
       "      <td>Senior Data Scientist</td>\n",
       "      <td>Bangalore/Bengaluru</td>\n",
       "      <td>SMITHS DETECTION SYSTEMS PRIVATE LIMITED</td>\n",
       "      <td>Must possess at least a Bachelors degree in El...</td>\n",
       "    </tr>\n",
       "    <tr>\n",
       "      <th>6</th>\n",
       "      <td>Senior Data Scientist</td>\n",
       "      <td>Bangalore/Bengaluru</td>\n",
       "      <td>Cognizer India Private Limited</td>\n",
       "      <td>Roles and Responsibilities Strong in problem s...</td>\n",
       "    </tr>\n",
       "    <tr>\n",
       "      <th>7</th>\n",
       "      <td>Lead Data Scientist</td>\n",
       "      <td>Bangalore/Bengaluru</td>\n",
       "      <td>Zycus Infotech Pvt Ltd</td>\n",
       "      <td>Move between Roles: We believe that change lea...</td>\n",
       "    </tr>\n",
       "    <tr>\n",
       "      <th>8</th>\n",
       "      <td>Lead Data Scientist</td>\n",
       "      <td>Bangalore/Bengaluru, Delhi / NCR, Mumbai (All ...</td>\n",
       "      <td>TransOrg Solutions Services (P) Ltd.</td>\n",
       "      <td>Bachelors in Computer Science, Engineering, St...</td>\n",
       "    </tr>\n",
       "    <tr>\n",
       "      <th>9</th>\n",
       "      <td>Senior Data Scientist / Tech Lead - Data Science</td>\n",
       "      <td>(WFH during Covid)</td>\n",
       "      <td>Confidential</td>\n",
       "      <td>Education no bar, but preferably from a Statis...</td>\n",
       "    </tr>\n",
       "  </tbody>\n",
       "</table>\n",
       "</div>"
      ],
      "text/plain": [
       "                                               TITLE  \\\n",
       "0  Data Scientist- Senior Business Analyst/Lead A...   \n",
       "1              Lead Data Scientist - Retail Industry   \n",
       "2                        Senior/ Lead Data Scientist   \n",
       "3                 Data Scientist: Advanced Analytics   \n",
       "4                                     Data Scientist   \n",
       "5                              Senior Data Scientist   \n",
       "6                              Senior Data Scientist   \n",
       "7                                Lead Data Scientist   \n",
       "8                                Lead Data Scientist   \n",
       "9   Senior Data Scientist / Tech Lead - Data Science   \n",
       "\n",
       "                                            LOCATION  \\\n",
       "0              Gurgaon/Gurugram, Bangalore/Bengaluru   \n",
       "1                                Bangalore/Bengaluru   \n",
       "2                                Bangalore/Bengaluru   \n",
       "3                                Bangalore/Bengaluru   \n",
       "4                                Bangalore/Bengaluru   \n",
       "5                                Bangalore/Bengaluru   \n",
       "6                                Bangalore/Bengaluru   \n",
       "7                                Bangalore/Bengaluru   \n",
       "8  Bangalore/Bengaluru, Delhi / NCR, Mumbai (All ...   \n",
       "9                                 (WFH during Covid)   \n",
       "\n",
       "                                    COMPANY  \\\n",
       "0                  Evalueserve.com Pvt. Ltd   \n",
       "1                    IBM India Pvt. Limited   \n",
       "2                            Superior Group   \n",
       "3                    IBM India Pvt. Limited   \n",
       "4                    IBM India Pvt. Limited   \n",
       "5  SMITHS DETECTION SYSTEMS PRIVATE LIMITED   \n",
       "6            Cognizer India Private Limited   \n",
       "7                    Zycus Infotech Pvt Ltd   \n",
       "8      TransOrg Solutions Services (P) Ltd.   \n",
       "9                              Confidential   \n",
       "\n",
       "                                    FULL DESCRIPTION  \n",
       "0  from a reputed institute Experience with cloud...  \n",
       "1  As a Senior Data Scientist you will be at the ...  \n",
       "2  3 years of experience performing predictive an...  \n",
       "3  As a Data Scientist at IBM, you will help tran...  \n",
       "4  Experience in creating and using advanced mach...  \n",
       "5  Must possess at least a Bachelors degree in El...  \n",
       "6  Roles and Responsibilities Strong in problem s...  \n",
       "7  Move between Roles: We believe that change lea...  \n",
       "8  Bachelors in Computer Science, Engineering, St...  \n",
       "9  Education no bar, but preferably from a Statis...  "
      ]
     },
     "execution_count": 52,
     "metadata": {},
     "output_type": "execute_result"
    }
   ],
   "source": [
    "jobs = pd.DataFrame({})\n",
    "jobs['TITLE'] = job_titles2[0:10]\n",
    "jobs['LOCATION'] = location2[0:10]\n",
    "jobs['COMPANY'] = company_name2[0:10]\n",
    "jobs['FULL DESCRIPTION'] = full_description2[0:10]\n",
    "jobs\n"
   ]
  },
  {
   "cell_type": "markdown",
   "metadata": {},
   "source": [
    "# Q3. Data scientist job position in Delhi/NCR location from the webpage naukri.com with salary between 3-6 lakhs"
   ]
  },
  {
   "cell_type": "code",
   "execution_count": 72,
   "metadata": {},
   "outputs": [],
   "source": [
    "driver = webdriver.Chrome('chromedriver.exe')"
   ]
  },
  {
   "cell_type": "code",
   "execution_count": 73,
   "metadata": {},
   "outputs": [],
   "source": [
    "url = 'https://naukri.com'\n",
    "driver.get(url)"
   ]
  },
  {
   "cell_type": "code",
   "execution_count": 74,
   "metadata": {},
   "outputs": [
    {
     "data": {
      "text/plain": [
       "<selenium.webdriver.remote.webelement.WebElement (session=\"8b4e657b64d4c9ebb1e77b06632a2abf\", element=\"9c2c7ca7-f0ba-4a0e-85b6-95c0a6d5000d\")>"
      ]
     },
     "execution_count": 74,
     "metadata": {},
     "output_type": "execute_result"
    }
   ],
   "source": [
    "search_job3 = driver.find_element_by_id(\"qsb-keyword-sugg\")\n",
    "search_job3"
   ]
  },
  {
   "cell_type": "code",
   "execution_count": 75,
   "metadata": {},
   "outputs": [],
   "source": [
    "search_job3.send_keys(\"Data Scientist\")"
   ]
  },
  {
   "cell_type": "code",
   "execution_count": 76,
   "metadata": {},
   "outputs": [],
   "source": [
    "search_loc3 = driver.find_element_by_id(\"qsb-location-sugg\")\n",
    "search_loc3.send_keys('Delhi/NCR')"
   ]
  },
  {
   "cell_type": "code",
   "execution_count": 77,
   "metadata": {},
   "outputs": [
    {
     "data": {
      "text/plain": [
       "<selenium.webdriver.remote.webelement.WebElement (session=\"8b4e657b64d4c9ebb1e77b06632a2abf\", element=\"1e782644-b9c0-4850-9f45-d83759e15c2b\")>"
      ]
     },
     "execution_count": 77,
     "metadata": {},
     "output_type": "execute_result"
    }
   ],
   "source": [
    "search_button3 = driver.find_element_by_xpath('//button[@class=\"btn\"]')\n",
    "search_button3"
   ]
  },
  {
   "cell_type": "code",
   "execution_count": 78,
   "metadata": {},
   "outputs": [],
   "source": [
    "search_button3.click()"
   ]
  },
  {
   "cell_type": "code",
   "execution_count": 80,
   "metadata": {},
   "outputs": [],
   "source": [
    "apply_filter3 = driver.find_element_by_xpath('/html/body/div[1]/div[3]/div[2]/section[1]/div[2]/div[4]/div[2]/div[2]/label/i')\n",
    "apply_filter3.click()"
   ]
  },
  {
   "cell_type": "code",
   "execution_count": 81,
   "metadata": {},
   "outputs": [
    {
     "data": {
      "text/plain": [
       "[<selenium.webdriver.remote.webelement.WebElement (session=\"8b4e657b64d4c9ebb1e77b06632a2abf\", element=\"2fed7b4b-ef7f-40e4-8665-01a3b44896ee\")>,\n",
       " <selenium.webdriver.remote.webelement.WebElement (session=\"8b4e657b64d4c9ebb1e77b06632a2abf\", element=\"02fd0132-1fb5-4bb7-b145-9cc82b5646e8\")>,\n",
       " <selenium.webdriver.remote.webelement.WebElement (session=\"8b4e657b64d4c9ebb1e77b06632a2abf\", element=\"0df431b4-c4b8-4f20-880b-095fc2a88abc\")>,\n",
       " <selenium.webdriver.remote.webelement.WebElement (session=\"8b4e657b64d4c9ebb1e77b06632a2abf\", element=\"72fcfe69-371d-4d93-b809-497a61a5d663\")>,\n",
       " <selenium.webdriver.remote.webelement.WebElement (session=\"8b4e657b64d4c9ebb1e77b06632a2abf\", element=\"faa81ae2-771f-4f12-8e43-6608824e7e48\")>,\n",
       " <selenium.webdriver.remote.webelement.WebElement (session=\"8b4e657b64d4c9ebb1e77b06632a2abf\", element=\"68e57797-e0e5-4a0f-b205-26fe99428c22\")>,\n",
       " <selenium.webdriver.remote.webelement.WebElement (session=\"8b4e657b64d4c9ebb1e77b06632a2abf\", element=\"1cceac99-9d61-4129-b601-ef4f315600f5\")>,\n",
       " <selenium.webdriver.remote.webelement.WebElement (session=\"8b4e657b64d4c9ebb1e77b06632a2abf\", element=\"cd7ae43d-4f27-439e-a7de-c60d9e911217\")>,\n",
       " <selenium.webdriver.remote.webelement.WebElement (session=\"8b4e657b64d4c9ebb1e77b06632a2abf\", element=\"999e79ad-a707-4572-bf0e-85bbe93bc8d3\")>,\n",
       " <selenium.webdriver.remote.webelement.WebElement (session=\"8b4e657b64d4c9ebb1e77b06632a2abf\", element=\"130b4813-ee01-4266-a599-d20b2e7e9721\")>,\n",
       " <selenium.webdriver.remote.webelement.WebElement (session=\"8b4e657b64d4c9ebb1e77b06632a2abf\", element=\"45efa4a7-4217-4749-8e68-9df93c5553a5\")>,\n",
       " <selenium.webdriver.remote.webelement.WebElement (session=\"8b4e657b64d4c9ebb1e77b06632a2abf\", element=\"38685597-615c-4bb0-a7fb-c30f009fec5b\")>,\n",
       " <selenium.webdriver.remote.webelement.WebElement (session=\"8b4e657b64d4c9ebb1e77b06632a2abf\", element=\"3d7af881-f0a8-4b05-a54a-28447de08e72\")>,\n",
       " <selenium.webdriver.remote.webelement.WebElement (session=\"8b4e657b64d4c9ebb1e77b06632a2abf\", element=\"92e0493a-cbc0-4911-a52a-84448f4bc1ed\")>,\n",
       " <selenium.webdriver.remote.webelement.WebElement (session=\"8b4e657b64d4c9ebb1e77b06632a2abf\", element=\"efdca93e-553f-4351-bab3-e48a9e1f0dcf\")>,\n",
       " <selenium.webdriver.remote.webelement.WebElement (session=\"8b4e657b64d4c9ebb1e77b06632a2abf\", element=\"68ccc377-af8a-41f6-9f2a-bcedfda99ed2\")>,\n",
       " <selenium.webdriver.remote.webelement.WebElement (session=\"8b4e657b64d4c9ebb1e77b06632a2abf\", element=\"51aea703-e1e7-490e-a106-6c2d1e8b8ef8\")>,\n",
       " <selenium.webdriver.remote.webelement.WebElement (session=\"8b4e657b64d4c9ebb1e77b06632a2abf\", element=\"6d47212f-75c3-4257-8ce0-23f6ba2bdebe\")>,\n",
       " <selenium.webdriver.remote.webelement.WebElement (session=\"8b4e657b64d4c9ebb1e77b06632a2abf\", element=\"aa01203c-88e6-4fd3-a04f-b4c18c23bb84\")>,\n",
       " <selenium.webdriver.remote.webelement.WebElement (session=\"8b4e657b64d4c9ebb1e77b06632a2abf\", element=\"9c918d3c-c2b0-4603-b812-335ca418c312\")>]"
      ]
     },
     "execution_count": 81,
     "metadata": {},
     "output_type": "execute_result"
    }
   ],
   "source": [
    "title_tags3= driver.find_elements_by_xpath('//a[@class=\"title fw500 ellipsis\"]')\n",
    "title_tags3"
   ]
  },
  {
   "cell_type": "code",
   "execution_count": 82,
   "metadata": {},
   "outputs": [
    {
     "data": {
      "text/plain": [
       "['Data Scientist',\n",
       " 'Data Scientist Internship',\n",
       " 'Data Scientist',\n",
       " 'Senior Data Scientist - Noida',\n",
       " 'Data Scientist / Sr. Data Scientist',\n",
       " 'Only Fresher / Data Scientist / Data Analyst / Analytics - MNC Jobs',\n",
       " 'Immediate Openings For DATA Scientist with 6 To 7 yrs of Experience',\n",
       " 'Data Scientist',\n",
       " 'Data Scientist',\n",
       " 'Data Scientist - Machine Learning/NLP',\n",
       " 'Data Scientist - Machine Learning/NLP',\n",
       " 'Data Scientist',\n",
       " 'Data Scientist',\n",
       " 'Data Scientist / Data Analyst',\n",
       " 'Senior Data Scientist',\n",
       " 'Data Scientist',\n",
       " 'Senior Data Scientist',\n",
       " 'We are hiring- Data Scientist- Noida',\n",
       " 'Hiring Data Scientist Develope || IDS Infotech LTD || (Permanent WFH)',\n",
       " 'Hiring Data Scientist Develope || IDS Infotech LTD || (Permanent WFH)']"
      ]
     },
     "execution_count": 82,
     "metadata": {},
     "output_type": "execute_result"
    }
   ],
   "source": [
    "job_titles3 = []\n",
    "for i in title_tags3:\n",
    "    job_titles3.append(i.text)\n",
    "job_titles3"
   ]
  },
  {
   "cell_type": "code",
   "execution_count": 83,
   "metadata": {},
   "outputs": [
    {
     "data": {
      "text/plain": [
       "[<selenium.webdriver.remote.webelement.WebElement (session=\"8b4e657b64d4c9ebb1e77b06632a2abf\", element=\"09992779-eb9d-4366-a079-6092fb9e5a99\")>,\n",
       " <selenium.webdriver.remote.webelement.WebElement (session=\"8b4e657b64d4c9ebb1e77b06632a2abf\", element=\"cf5730e6-5ddb-4f9e-9e69-3f0c89ed342d\")>,\n",
       " <selenium.webdriver.remote.webelement.WebElement (session=\"8b4e657b64d4c9ebb1e77b06632a2abf\", element=\"44df94c0-1283-47f6-a201-b7931c1c7a37\")>,\n",
       " <selenium.webdriver.remote.webelement.WebElement (session=\"8b4e657b64d4c9ebb1e77b06632a2abf\", element=\"4f187bbe-7b72-42fa-9d79-91f1a1f32ea3\")>,\n",
       " <selenium.webdriver.remote.webelement.WebElement (session=\"8b4e657b64d4c9ebb1e77b06632a2abf\", element=\"0b0275a7-d7d4-4075-b437-75512f7eb5c8\")>,\n",
       " <selenium.webdriver.remote.webelement.WebElement (session=\"8b4e657b64d4c9ebb1e77b06632a2abf\", element=\"de618e54-e77f-4c5e-8414-77d5cd0d5df8\")>,\n",
       " <selenium.webdriver.remote.webelement.WebElement (session=\"8b4e657b64d4c9ebb1e77b06632a2abf\", element=\"f6794db3-87c9-429f-bc8a-68192c7db250\")>,\n",
       " <selenium.webdriver.remote.webelement.WebElement (session=\"8b4e657b64d4c9ebb1e77b06632a2abf\", element=\"e4ae9adf-1b17-422f-a183-da02cdd2324a\")>,\n",
       " <selenium.webdriver.remote.webelement.WebElement (session=\"8b4e657b64d4c9ebb1e77b06632a2abf\", element=\"dbc3a5f3-9b09-4333-a916-643bf52f4943\")>,\n",
       " <selenium.webdriver.remote.webelement.WebElement (session=\"8b4e657b64d4c9ebb1e77b06632a2abf\", element=\"adbb6713-4b9c-4977-942c-b50a4d0cc231\")>,\n",
       " <selenium.webdriver.remote.webelement.WebElement (session=\"8b4e657b64d4c9ebb1e77b06632a2abf\", element=\"2a23a48a-8746-489e-80e8-0af28ecbb821\")>,\n",
       " <selenium.webdriver.remote.webelement.WebElement (session=\"8b4e657b64d4c9ebb1e77b06632a2abf\", element=\"5efec6f4-a508-481e-a5e1-c8e947b35f48\")>,\n",
       " <selenium.webdriver.remote.webelement.WebElement (session=\"8b4e657b64d4c9ebb1e77b06632a2abf\", element=\"7e16ede5-bf5c-4156-88ee-f6da7ff80d34\")>,\n",
       " <selenium.webdriver.remote.webelement.WebElement (session=\"8b4e657b64d4c9ebb1e77b06632a2abf\", element=\"f90a46a0-04b7-4ac7-a0fd-dd56ddc360a7\")>,\n",
       " <selenium.webdriver.remote.webelement.WebElement (session=\"8b4e657b64d4c9ebb1e77b06632a2abf\", element=\"dd7b59d6-a692-4613-a6c7-5753c24cb32f\")>,\n",
       " <selenium.webdriver.remote.webelement.WebElement (session=\"8b4e657b64d4c9ebb1e77b06632a2abf\", element=\"5fded605-2da3-429a-85fd-7967732682a6\")>,\n",
       " <selenium.webdriver.remote.webelement.WebElement (session=\"8b4e657b64d4c9ebb1e77b06632a2abf\", element=\"1c408985-b095-4771-82a1-726cd1452816\")>,\n",
       " <selenium.webdriver.remote.webelement.WebElement (session=\"8b4e657b64d4c9ebb1e77b06632a2abf\", element=\"512bc18e-514b-414b-87e5-53377b873b29\")>,\n",
       " <selenium.webdriver.remote.webelement.WebElement (session=\"8b4e657b64d4c9ebb1e77b06632a2abf\", element=\"51eda3de-0cca-4ac7-8fcf-db384819f425\")>,\n",
       " <selenium.webdriver.remote.webelement.WebElement (session=\"8b4e657b64d4c9ebb1e77b06632a2abf\", element=\"b4dc20b5-b201-4a11-8987-5e1289816adb\")>]"
      ]
     },
     "execution_count": 83,
     "metadata": {},
     "output_type": "execute_result"
    }
   ],
   "source": [
    "companies_tag3 = driver.find_elements_by_xpath('//a[@class=\"subTitle ellipsis fleft\"]')\n",
    "companies_tag3"
   ]
  },
  {
   "cell_type": "code",
   "execution_count": 84,
   "metadata": {},
   "outputs": [
    {
     "data": {
      "text/plain": [
       "['Agreeya',\n",
       " 'iHackers Inc',\n",
       " 'CBRE South Asia Pvt Ltd',\n",
       " 'Optum Global Solutions (India) Private Limited',\n",
       " 'WEGARNER SOLUTIONS PRIVATE LIMITED',\n",
       " 'GABA Consultancy services',\n",
       " 'Entune IT Consulting Private Limited',\n",
       " 'Decimal Technologies Pvt Ltd.',\n",
       " 'R Systems International Ltd.',\n",
       " 'TalPro',\n",
       " 'TalPro',\n",
       " 'Ashkom Media India Private Limited',\n",
       " 'Global Client of High Heads Management Consultants',\n",
       " 'CARS24',\n",
       " 'inVentiv International Pharma Services Pvt. Ltd.',\n",
       " 'Fractal Analytics',\n",
       " 'iNICU',\n",
       " 'RANDSTAD INDIA PVT LTD',\n",
       " 'IDS Infotech Ltd.',\n",
       " 'IDS Infotech Ltd.']"
      ]
     },
     "execution_count": 84,
     "metadata": {},
     "output_type": "execute_result"
    }
   ],
   "source": [
    "company_name3 = []\n",
    "\n",
    "for i in companies_tag3:\n",
    "    company_name3.append(i.text)\n",
    "company_name3"
   ]
  },
  {
   "cell_type": "code",
   "execution_count": 85,
   "metadata": {},
   "outputs": [
    {
     "data": {
      "text/plain": [
       "[<selenium.webdriver.remote.webelement.WebElement (session=\"8b4e657b64d4c9ebb1e77b06632a2abf\", element=\"28a87795-265e-4219-bf41-64782a453a48\")>,\n",
       " <selenium.webdriver.remote.webelement.WebElement (session=\"8b4e657b64d4c9ebb1e77b06632a2abf\", element=\"a933a08c-2ebe-4c7b-9e01-896a0a230d1e\")>,\n",
       " <selenium.webdriver.remote.webelement.WebElement (session=\"8b4e657b64d4c9ebb1e77b06632a2abf\", element=\"ea3bba43-1a7f-468d-9a87-63e272d2bb99\")>,\n",
       " <selenium.webdriver.remote.webelement.WebElement (session=\"8b4e657b64d4c9ebb1e77b06632a2abf\", element=\"147cad4b-4688-4b85-ac3f-c06bffc5b833\")>,\n",
       " <selenium.webdriver.remote.webelement.WebElement (session=\"8b4e657b64d4c9ebb1e77b06632a2abf\", element=\"e4ac63c6-e72f-4821-9956-1e2e5164d91d\")>,\n",
       " <selenium.webdriver.remote.webelement.WebElement (session=\"8b4e657b64d4c9ebb1e77b06632a2abf\", element=\"0efd9696-51e8-4928-adeb-40481e2b45dd\")>,\n",
       " <selenium.webdriver.remote.webelement.WebElement (session=\"8b4e657b64d4c9ebb1e77b06632a2abf\", element=\"48e59458-6a49-4936-beac-6033341bb4de\")>,\n",
       " <selenium.webdriver.remote.webelement.WebElement (session=\"8b4e657b64d4c9ebb1e77b06632a2abf\", element=\"8eab0c5b-8a27-4a82-8c06-1e56ae8eb642\")>,\n",
       " <selenium.webdriver.remote.webelement.WebElement (session=\"8b4e657b64d4c9ebb1e77b06632a2abf\", element=\"11a08345-a058-4e15-b332-8253b3d68a07\")>,\n",
       " <selenium.webdriver.remote.webelement.WebElement (session=\"8b4e657b64d4c9ebb1e77b06632a2abf\", element=\"b1a68b88-442c-495c-a4e2-4c58c6f7ec4d\")>,\n",
       " <selenium.webdriver.remote.webelement.WebElement (session=\"8b4e657b64d4c9ebb1e77b06632a2abf\", element=\"13e4a345-45e4-4905-9b71-28054d26d074\")>,\n",
       " <selenium.webdriver.remote.webelement.WebElement (session=\"8b4e657b64d4c9ebb1e77b06632a2abf\", element=\"f18b125a-2772-4024-80b3-4dc5b86000a2\")>,\n",
       " <selenium.webdriver.remote.webelement.WebElement (session=\"8b4e657b64d4c9ebb1e77b06632a2abf\", element=\"af2533f1-bc17-4b5a-9132-8b6206f700e8\")>,\n",
       " <selenium.webdriver.remote.webelement.WebElement (session=\"8b4e657b64d4c9ebb1e77b06632a2abf\", element=\"b6a56084-c166-4f91-bdf9-59878dd60437\")>,\n",
       " <selenium.webdriver.remote.webelement.WebElement (session=\"8b4e657b64d4c9ebb1e77b06632a2abf\", element=\"03950ce6-847c-4227-8bf6-b42f502d58c6\")>,\n",
       " <selenium.webdriver.remote.webelement.WebElement (session=\"8b4e657b64d4c9ebb1e77b06632a2abf\", element=\"c2b0827b-92d5-4143-a05f-eb4ead38a20f\")>,\n",
       " <selenium.webdriver.remote.webelement.WebElement (session=\"8b4e657b64d4c9ebb1e77b06632a2abf\", element=\"ed88bb1f-c5d3-4eaf-b700-fc1f312e9b29\")>,\n",
       " <selenium.webdriver.remote.webelement.WebElement (session=\"8b4e657b64d4c9ebb1e77b06632a2abf\", element=\"2a8405a3-cdb1-442e-bf14-931e355bd344\")>,\n",
       " <selenium.webdriver.remote.webelement.WebElement (session=\"8b4e657b64d4c9ebb1e77b06632a2abf\", element=\"05d9815c-0c7c-4bb1-aa21-3fbc3e745454\")>,\n",
       " <selenium.webdriver.remote.webelement.WebElement (session=\"8b4e657b64d4c9ebb1e77b06632a2abf\", element=\"31db3810-f043-4a25-bd69-741219c1f8e4\")>]"
      ]
     },
     "execution_count": 85,
     "metadata": {},
     "output_type": "execute_result"
    }
   ],
   "source": [
    "experience_tags3=driver.find_elements_by_xpath('//li[@class=\"fleft grey-text br2 placeHolderLi experience\"]//span[1]')\n",
    "experience_tags3"
   ]
  },
  {
   "cell_type": "code",
   "execution_count": 86,
   "metadata": {},
   "outputs": [
    {
     "data": {
      "text/plain": [
       "['3-6 Yrs',\n",
       " '0-1 Yrs',\n",
       " '2-4 Yrs',\n",
       " '2-6 Yrs',\n",
       " '0-5 Yrs',\n",
       " '0-0 Yrs',\n",
       " '5-8 Yrs',\n",
       " '1-3 Yrs',\n",
       " '5-10 Yrs',\n",
       " '2-6 Yrs',\n",
       " '2-4 Yrs',\n",
       " '3-8 Yrs',\n",
       " '3-6 Yrs',\n",
       " '1-5 Yrs',\n",
       " '3-6 Yrs',\n",
       " '3-7 Yrs',\n",
       " '1-5 Yrs',\n",
       " '3-7 Yrs',\n",
       " '5-10 Yrs',\n",
       " '5-10 Yrs']"
      ]
     },
     "execution_count": 86,
     "metadata": {},
     "output_type": "execute_result"
    }
   ],
   "source": [
    "experience_list3 = []\n",
    "for i in experience_tags3:\n",
    "    experience_list3.append(i.text)\n",
    "experience_list3"
   ]
  },
  {
   "cell_type": "code",
   "execution_count": 87,
   "metadata": {},
   "outputs": [
    {
     "data": {
      "text/plain": [
       "[<selenium.webdriver.remote.webelement.WebElement (session=\"8b4e657b64d4c9ebb1e77b06632a2abf\", element=\"30945e55-7241-4190-94a9-6d20ba1fad6a\")>,\n",
       " <selenium.webdriver.remote.webelement.WebElement (session=\"8b4e657b64d4c9ebb1e77b06632a2abf\", element=\"2631ebb6-b519-48fd-8c06-161b704631b5\")>,\n",
       " <selenium.webdriver.remote.webelement.WebElement (session=\"8b4e657b64d4c9ebb1e77b06632a2abf\", element=\"10964f60-ca43-421c-80cc-29169207c3d6\")>,\n",
       " <selenium.webdriver.remote.webelement.WebElement (session=\"8b4e657b64d4c9ebb1e77b06632a2abf\", element=\"766d6e68-180f-43b1-81cd-1a0c19f94d6f\")>,\n",
       " <selenium.webdriver.remote.webelement.WebElement (session=\"8b4e657b64d4c9ebb1e77b06632a2abf\", element=\"fe136545-da83-4a09-95bf-2f27b3942846\")>,\n",
       " <selenium.webdriver.remote.webelement.WebElement (session=\"8b4e657b64d4c9ebb1e77b06632a2abf\", element=\"25f08a52-6144-43a3-8554-13be8aa8d1df\")>,\n",
       " <selenium.webdriver.remote.webelement.WebElement (session=\"8b4e657b64d4c9ebb1e77b06632a2abf\", element=\"6b7167cf-0597-4339-b6eb-5303e7419485\")>,\n",
       " <selenium.webdriver.remote.webelement.WebElement (session=\"8b4e657b64d4c9ebb1e77b06632a2abf\", element=\"b99e2b13-5bb6-44c1-82a9-046193e8569d\")>,\n",
       " <selenium.webdriver.remote.webelement.WebElement (session=\"8b4e657b64d4c9ebb1e77b06632a2abf\", element=\"abb9cda0-cf8a-453f-ab7e-f77b5c27507b\")>,\n",
       " <selenium.webdriver.remote.webelement.WebElement (session=\"8b4e657b64d4c9ebb1e77b06632a2abf\", element=\"a6d14f68-86a6-4c23-ab80-d07752e44c0d\")>,\n",
       " <selenium.webdriver.remote.webelement.WebElement (session=\"8b4e657b64d4c9ebb1e77b06632a2abf\", element=\"4f5b2450-0f90-4579-9261-0506cbd7bfc6\")>,\n",
       " <selenium.webdriver.remote.webelement.WebElement (session=\"8b4e657b64d4c9ebb1e77b06632a2abf\", element=\"1b753718-f664-4aed-b09e-2c92712e9409\")>,\n",
       " <selenium.webdriver.remote.webelement.WebElement (session=\"8b4e657b64d4c9ebb1e77b06632a2abf\", element=\"c9c00563-d3be-439b-8ca4-37c5f37708b4\")>,\n",
       " <selenium.webdriver.remote.webelement.WebElement (session=\"8b4e657b64d4c9ebb1e77b06632a2abf\", element=\"7d4f5880-8ac3-45ad-92af-0f84457942ef\")>,\n",
       " <selenium.webdriver.remote.webelement.WebElement (session=\"8b4e657b64d4c9ebb1e77b06632a2abf\", element=\"68f0c6c0-440a-45d4-baeb-f66e1c9d4096\")>,\n",
       " <selenium.webdriver.remote.webelement.WebElement (session=\"8b4e657b64d4c9ebb1e77b06632a2abf\", element=\"0df77e63-4aac-491f-8d84-97a7490b4257\")>,\n",
       " <selenium.webdriver.remote.webelement.WebElement (session=\"8b4e657b64d4c9ebb1e77b06632a2abf\", element=\"7aaffd7d-cb5b-417d-92b5-f372d7270fb0\")>,\n",
       " <selenium.webdriver.remote.webelement.WebElement (session=\"8b4e657b64d4c9ebb1e77b06632a2abf\", element=\"515b1bc0-e55c-4326-8d82-53cce403a267\")>,\n",
       " <selenium.webdriver.remote.webelement.WebElement (session=\"8b4e657b64d4c9ebb1e77b06632a2abf\", element=\"73f1b356-9e16-40fb-82d9-e7290ca536f3\")>,\n",
       " <selenium.webdriver.remote.webelement.WebElement (session=\"8b4e657b64d4c9ebb1e77b06632a2abf\", element=\"0bb00fbf-33ac-425a-a69a-0c683d92cb91\")>]"
      ]
     },
     "execution_count": 87,
     "metadata": {},
     "output_type": "execute_result"
    }
   ],
   "source": [
    "location_tags3 = driver.find_elements_by_xpath('//li[@class=\"fleft grey-text br2 placeHolderLi location\"]//span[1]')\n",
    "location_tags3"
   ]
  },
  {
   "cell_type": "code",
   "execution_count": 88,
   "metadata": {},
   "outputs": [
    {
     "data": {
      "text/plain": [
       "['Noida, Gurgaon/Gurugram, Delhi / NCR',\n",
       " 'New Delhi',\n",
       " 'Gurgaon/Gurugram',\n",
       " 'Noida',\n",
       " 'Noida, Pune, Mumbai (All Areas)',\n",
       " 'Noida, Gurgaon/Gurugram, Delhi / NCR',\n",
       " 'Kolkata, Hyderabad/Secunderabad, Pune, Ahmedabad, Chennai, Bangalore/Bengaluru, Delhi / NCR, Mumbai (All Areas)',\n",
       " 'Gurgaon/Gurugram',\n",
       " 'Noida(Sector-59 Noida)',\n",
       " 'Gurgaon/Gurugram',\n",
       " 'Gurgaon/Gurugram',\n",
       " 'Noida',\n",
       " 'Pune, Gurgaon/Gurugram, Chennai',\n",
       " 'Gurgaon/Gurugram',\n",
       " 'Hyderabad/Secunderabad, Gurgaon/Gurugram, Bangalore/Bengaluru',\n",
       " 'Mumbai, Gurgaon/Gurugram, Bangalore/Bengaluru',\n",
       " 'Delhi',\n",
       " 'Delhi / NCR',\n",
       " 'Chandigarh, Hyderabad/Secunderabad, Chennai, Bangalore/Bengaluru, Delhi / NCR',\n",
       " 'Chandigarh, Hyderabad/Secunderabad, Chennai, Bangalore/Bengaluru, Delhi / NCR']"
      ]
     },
     "execution_count": 88,
     "metadata": {},
     "output_type": "execute_result"
    }
   ],
   "source": [
    "location3 = []\n",
    "for i in location_tags3:\n",
    "    location3.append(i.text)\n",
    "location3"
   ]
  },
  {
   "cell_type": "code",
   "execution_count": 89,
   "metadata": {},
   "outputs": [
    {
     "data": {
      "text/html": [
       "<div>\n",
       "<style scoped>\n",
       "    .dataframe tbody tr th:only-of-type {\n",
       "        vertical-align: middle;\n",
       "    }\n",
       "\n",
       "    .dataframe tbody tr th {\n",
       "        vertical-align: top;\n",
       "    }\n",
       "\n",
       "    .dataframe thead th {\n",
       "        text-align: right;\n",
       "    }\n",
       "</style>\n",
       "<table border=\"1\" class=\"dataframe\">\n",
       "  <thead>\n",
       "    <tr style=\"text-align: right;\">\n",
       "      <th></th>\n",
       "      <th>TITLE</th>\n",
       "      <th>LOCATION</th>\n",
       "      <th>COMPANY</th>\n",
       "      <th>EXPERIENCE REQUIRED</th>\n",
       "    </tr>\n",
       "  </thead>\n",
       "  <tbody>\n",
       "    <tr>\n",
       "      <th>0</th>\n",
       "      <td>Data Scientist</td>\n",
       "      <td>Noida, Gurgaon/Gurugram, Delhi / NCR</td>\n",
       "      <td>Agreeya</td>\n",
       "      <td>3-6 Yrs</td>\n",
       "    </tr>\n",
       "    <tr>\n",
       "      <th>1</th>\n",
       "      <td>Data Scientist Internship</td>\n",
       "      <td>New Delhi</td>\n",
       "      <td>iHackers Inc</td>\n",
       "      <td>0-1 Yrs</td>\n",
       "    </tr>\n",
       "    <tr>\n",
       "      <th>2</th>\n",
       "      <td>Data Scientist</td>\n",
       "      <td>Gurgaon/Gurugram</td>\n",
       "      <td>CBRE South Asia Pvt Ltd</td>\n",
       "      <td>2-4 Yrs</td>\n",
       "    </tr>\n",
       "    <tr>\n",
       "      <th>3</th>\n",
       "      <td>Senior Data Scientist - Noida</td>\n",
       "      <td>Noida</td>\n",
       "      <td>Optum Global Solutions (India) Private Limited</td>\n",
       "      <td>2-6 Yrs</td>\n",
       "    </tr>\n",
       "    <tr>\n",
       "      <th>4</th>\n",
       "      <td>Data Scientist / Sr. Data Scientist</td>\n",
       "      <td>Noida, Pune, Mumbai (All Areas)</td>\n",
       "      <td>WEGARNER SOLUTIONS PRIVATE LIMITED</td>\n",
       "      <td>0-5 Yrs</td>\n",
       "    </tr>\n",
       "    <tr>\n",
       "      <th>5</th>\n",
       "      <td>Only Fresher / Data Scientist / Data Analyst /...</td>\n",
       "      <td>Noida, Gurgaon/Gurugram, Delhi / NCR</td>\n",
       "      <td>GABA Consultancy services</td>\n",
       "      <td>0-0 Yrs</td>\n",
       "    </tr>\n",
       "    <tr>\n",
       "      <th>6</th>\n",
       "      <td>Immediate Openings For DATA Scientist with 6 T...</td>\n",
       "      <td>Kolkata, Hyderabad/Secunderabad, Pune, Ahmedab...</td>\n",
       "      <td>Entune IT Consulting Private Limited</td>\n",
       "      <td>5-8 Yrs</td>\n",
       "    </tr>\n",
       "    <tr>\n",
       "      <th>7</th>\n",
       "      <td>Data Scientist</td>\n",
       "      <td>Gurgaon/Gurugram</td>\n",
       "      <td>Decimal Technologies Pvt Ltd.</td>\n",
       "      <td>1-3 Yrs</td>\n",
       "    </tr>\n",
       "    <tr>\n",
       "      <th>8</th>\n",
       "      <td>Data Scientist</td>\n",
       "      <td>Noida(Sector-59 Noida)</td>\n",
       "      <td>R Systems International Ltd.</td>\n",
       "      <td>5-10 Yrs</td>\n",
       "    </tr>\n",
       "    <tr>\n",
       "      <th>9</th>\n",
       "      <td>Data Scientist - Machine Learning/NLP</td>\n",
       "      <td>Gurgaon/Gurugram</td>\n",
       "      <td>TalPro</td>\n",
       "      <td>2-6 Yrs</td>\n",
       "    </tr>\n",
       "  </tbody>\n",
       "</table>\n",
       "</div>"
      ],
      "text/plain": [
       "                                               TITLE  \\\n",
       "0                                     Data Scientist   \n",
       "1                          Data Scientist Internship   \n",
       "2                                     Data Scientist   \n",
       "3                      Senior Data Scientist - Noida   \n",
       "4                Data Scientist / Sr. Data Scientist   \n",
       "5  Only Fresher / Data Scientist / Data Analyst /...   \n",
       "6  Immediate Openings For DATA Scientist with 6 T...   \n",
       "7                                     Data Scientist   \n",
       "8                                     Data Scientist   \n",
       "9              Data Scientist - Machine Learning/NLP   \n",
       "\n",
       "                                            LOCATION  \\\n",
       "0               Noida, Gurgaon/Gurugram, Delhi / NCR   \n",
       "1                                          New Delhi   \n",
       "2                                   Gurgaon/Gurugram   \n",
       "3                                              Noida   \n",
       "4                    Noida, Pune, Mumbai (All Areas)   \n",
       "5               Noida, Gurgaon/Gurugram, Delhi / NCR   \n",
       "6  Kolkata, Hyderabad/Secunderabad, Pune, Ahmedab...   \n",
       "7                                   Gurgaon/Gurugram   \n",
       "8                             Noida(Sector-59 Noida)   \n",
       "9                                   Gurgaon/Gurugram   \n",
       "\n",
       "                                          COMPANY EXPERIENCE REQUIRED  \n",
       "0                                         Agreeya             3-6 Yrs  \n",
       "1                                    iHackers Inc             0-1 Yrs  \n",
       "2                         CBRE South Asia Pvt Ltd             2-4 Yrs  \n",
       "3  Optum Global Solutions (India) Private Limited             2-6 Yrs  \n",
       "4              WEGARNER SOLUTIONS PRIVATE LIMITED             0-5 Yrs  \n",
       "5                       GABA Consultancy services             0-0 Yrs  \n",
       "6            Entune IT Consulting Private Limited             5-8 Yrs  \n",
       "7                   Decimal Technologies Pvt Ltd.             1-3 Yrs  \n",
       "8                    R Systems International Ltd.            5-10 Yrs  \n",
       "9                                          TalPro             2-6 Yrs  "
      ]
     },
     "execution_count": 89,
     "metadata": {},
     "output_type": "execute_result"
    }
   ],
   "source": [
    "jobs3 = pd.DataFrame({})\n",
    "jobs3['TITLE'] = job_titles3[0:10]\n",
    "jobs3['LOCATION'] = location3[0:10]\n",
    "jobs3['COMPANY'] = company_name3[0:10]\n",
    "jobs3['EXPERIENCE REQUIRED'] = experience_list3[0:10]\n",
    "jobs3"
   ]
  },
  {
   "cell_type": "markdown",
   "metadata": {},
   "source": [
    "# Q4. Data scientist job position in Noida location from the webpage https://www.glassdoor.co.in/index.htm"
   ]
  },
  {
   "cell_type": "code",
   "execution_count": 105,
   "metadata": {},
   "outputs": [],
   "source": [
    "driver = webdriver.Chrome('chromedriver.exe')"
   ]
  },
  {
   "cell_type": "code",
   "execution_count": 123,
   "metadata": {},
   "outputs": [],
   "source": [
    "url = 'https://www.glassdoor.co.in/Salaries/index.htm'\n",
    "driver.get(url)"
   ]
  },
  {
   "cell_type": "code",
   "execution_count": 124,
   "metadata": {},
   "outputs": [
    {
     "data": {
      "text/plain": [
       "<selenium.webdriver.remote.webelement.WebElement (session=\"a9dd82189efefce5427bf16550f2171b\", element=\"c13b6934-4c38-4864-8437-85ab6f07bb3a\")>"
      ]
     },
     "execution_count": 124,
     "metadata": {},
     "output_type": "execute_result"
    }
   ],
   "source": [
    "search_job4 = driver.find_element_by_id('KeywordSearch')\n",
    "search_job4"
   ]
  },
  {
   "cell_type": "code",
   "execution_count": 125,
   "metadata": {},
   "outputs": [],
   "source": [
    "search_job4.send_keys('Data Scientist')"
   ]
  },
  {
   "cell_type": "code",
   "execution_count": null,
   "metadata": {},
   "outputs": [],
   "source": []
  },
  {
   "cell_type": "code",
   "execution_count": 126,
   "metadata": {},
   "outputs": [],
   "source": [
    "search_loc4 = driver.find_element_by_xpath('//input[@class=\"loc\"]')\n",
    "search_loc4.send_keys('Noida')"
   ]
  },
  {
   "cell_type": "code",
   "execution_count": 128,
   "metadata": {},
   "outputs": [],
   "source": [
    "search_button4 = driver.find_element_by_xpath('//button[@class=\"gd-btn-mkt\"]')\n",
    "search_button4.click()"
   ]
  },
  {
   "cell_type": "code",
   "execution_count": 129,
   "metadata": {},
   "outputs": [
    {
     "data": {
      "text/plain": [
       "[<selenium.webdriver.remote.webelement.WebElement (session=\"a9dd82189efefce5427bf16550f2171b\", element=\"c8fc95cd-f1a6-41c9-a7fc-cd53e8707bdd\")>,\n",
       " <selenium.webdriver.remote.webelement.WebElement (session=\"a9dd82189efefce5427bf16550f2171b\", element=\"4017b329-cf67-44aa-9883-064a212474e1\")>,\n",
       " <selenium.webdriver.remote.webelement.WebElement (session=\"a9dd82189efefce5427bf16550f2171b\", element=\"0a26007d-da78-4e9b-954d-9ff50712f3f2\")>,\n",
       " <selenium.webdriver.remote.webelement.WebElement (session=\"a9dd82189efefce5427bf16550f2171b\", element=\"a33a8ade-2592-4f97-815f-34150964c27a\")>,\n",
       " <selenium.webdriver.remote.webelement.WebElement (session=\"a9dd82189efefce5427bf16550f2171b\", element=\"fe3d783a-a420-4411-8bb8-064b574c60ed\")>,\n",
       " <selenium.webdriver.remote.webelement.WebElement (session=\"a9dd82189efefce5427bf16550f2171b\", element=\"17c8a35e-4c20-4f93-915a-242847d58723\")>,\n",
       " <selenium.webdriver.remote.webelement.WebElement (session=\"a9dd82189efefce5427bf16550f2171b\", element=\"c9677c31-3606-4e6f-aea9-b375bc10da36\")>,\n",
       " <selenium.webdriver.remote.webelement.WebElement (session=\"a9dd82189efefce5427bf16550f2171b\", element=\"2d5987b8-4667-4c47-95ae-7d7f3476ff89\")>,\n",
       " <selenium.webdriver.remote.webelement.WebElement (session=\"a9dd82189efefce5427bf16550f2171b\", element=\"b17c650f-302b-48d9-abee-7c30e429c5a5\")>,\n",
       " <selenium.webdriver.remote.webelement.WebElement (session=\"a9dd82189efefce5427bf16550f2171b\", element=\"5c8e5577-9111-475e-83ce-c2922b8218c3\")>,\n",
       " <selenium.webdriver.remote.webelement.WebElement (session=\"a9dd82189efefce5427bf16550f2171b\", element=\"87b65df5-0863-4853-a55c-7bf9fdb081fc\")>,\n",
       " <selenium.webdriver.remote.webelement.WebElement (session=\"a9dd82189efefce5427bf16550f2171b\", element=\"d24f4b75-3320-4351-a7e9-515d0cf4c631\")>,\n",
       " <selenium.webdriver.remote.webelement.WebElement (session=\"a9dd82189efefce5427bf16550f2171b\", element=\"728480dc-b314-4428-b5bd-559754dc708b\")>,\n",
       " <selenium.webdriver.remote.webelement.WebElement (session=\"a9dd82189efefce5427bf16550f2171b\", element=\"4ef38c25-9638-4c24-b9b4-8e2da81f44fd\")>,\n",
       " <selenium.webdriver.remote.webelement.WebElement (session=\"a9dd82189efefce5427bf16550f2171b\", element=\"1eaaf57c-9f93-47ec-9e75-d1e38c0098cf\")>,\n",
       " <selenium.webdriver.remote.webelement.WebElement (session=\"a9dd82189efefce5427bf16550f2171b\", element=\"a3d54a47-4530-48ff-b258-a14890b27ca4\")>,\n",
       " <selenium.webdriver.remote.webelement.WebElement (session=\"a9dd82189efefce5427bf16550f2171b\", element=\"6fc7d396-6a7e-48df-a4d4-cf631a5e9968\")>,\n",
       " <selenium.webdriver.remote.webelement.WebElement (session=\"a9dd82189efefce5427bf16550f2171b\", element=\"90d9f4ed-85ff-43c2-805b-052a938821e3\")>,\n",
       " <selenium.webdriver.remote.webelement.WebElement (session=\"a9dd82189efefce5427bf16550f2171b\", element=\"2f264bd1-4da0-496b-afc4-d9cb6469724d\")>,\n",
       " <selenium.webdriver.remote.webelement.WebElement (session=\"a9dd82189efefce5427bf16550f2171b\", element=\"e9072d57-1fa5-4231-b0c3-e4e56eece8aa\")>,\n",
       " <selenium.webdriver.remote.webelement.WebElement (session=\"a9dd82189efefce5427bf16550f2171b\", element=\"c0a0a742-b93e-4982-bf02-40bc924aa52e\")>,\n",
       " <selenium.webdriver.remote.webelement.WebElement (session=\"a9dd82189efefce5427bf16550f2171b\", element=\"48ac75da-9b23-490a-a68e-9625d96a7feb\")>,\n",
       " <selenium.webdriver.remote.webelement.WebElement (session=\"a9dd82189efefce5427bf16550f2171b\", element=\"bcdfc00a-3b54-4b8e-947d-8d5e6176fc35\")>,\n",
       " <selenium.webdriver.remote.webelement.WebElement (session=\"a9dd82189efefce5427bf16550f2171b\", element=\"5ed12d74-917a-4590-8a98-5d0e9d99aa3d\")>,\n",
       " <selenium.webdriver.remote.webelement.WebElement (session=\"a9dd82189efefce5427bf16550f2171b\", element=\"2a3cce7c-1c80-4c96-b41c-3496b998e06f\")>,\n",
       " <selenium.webdriver.remote.webelement.WebElement (session=\"a9dd82189efefce5427bf16550f2171b\", element=\"075b5b76-d140-49e7-8b0e-b2aa949961b6\")>,\n",
       " <selenium.webdriver.remote.webelement.WebElement (session=\"a9dd82189efefce5427bf16550f2171b\", element=\"4e0c5195-bd0a-4c7a-9336-ceed1e85bc03\")>,\n",
       " <selenium.webdriver.remote.webelement.WebElement (session=\"a9dd82189efefce5427bf16550f2171b\", element=\"0833743e-9d1f-4c18-8415-1ba22837c436\")>,\n",
       " <selenium.webdriver.remote.webelement.WebElement (session=\"a9dd82189efefce5427bf16550f2171b\", element=\"3548f2ac-0a1d-48f6-9c08-f5633072769a\")>,\n",
       " <selenium.webdriver.remote.webelement.WebElement (session=\"a9dd82189efefce5427bf16550f2171b\", element=\"1bc4f653-9daf-4d1c-a1e3-eb1aae1f42bc\")>]"
      ]
     },
     "execution_count": 129,
     "metadata": {},
     "output_type": "execute_result"
    }
   ],
   "source": [
    "company_tags4= driver.find_elements_by_xpath('//a[@class=\" css-l2wjgv e1n63ojh0 jobLink\"]//span')\n",
    "company_tags4"
   ]
  },
  {
   "cell_type": "code",
   "execution_count": 130,
   "metadata": {},
   "outputs": [
    {
     "data": {
      "text/plain": [
       "['Liberin Technologies Private Limited',\n",
       " 'Data Trained Education',\n",
       " 'Pixel Vision',\n",
       " 'Emerging India Analytics',\n",
       " 'CRMNEXT',\n",
       " 'Techlive',\n",
       " 'Crowe',\n",
       " 'DataTrained',\n",
       " 'Ericsson',\n",
       " 'Uncodemy',\n",
       " 'Salasar New Age Technologies',\n",
       " 'Biz2Credit Inc',\n",
       " 'Newgen Software',\n",
       " 'Aliqan Technologies',\n",
       " 'NatWest Group',\n",
       " 'UnitedHealth Group',\n",
       " 'Decision Tree Analytics And Services',\n",
       " 'Amantya Technologies',\n",
       " 'Decision Tree Analytics And Services',\n",
       " 'NEC Opportunities',\n",
       " 'Conduent',\n",
       " 'Emerging India Group',\n",
       " 'British Council',\n",
       " 'SearchUrCollege',\n",
       " 'Innovacer',\n",
       " 'Salasar New Age Technologies',\n",
       " 'Innovacer',\n",
       " 'Deciman',\n",
       " 'Innobuzz',\n",
       " 'WishFin']"
      ]
     },
     "execution_count": 130,
     "metadata": {},
     "output_type": "execute_result"
    }
   ],
   "source": [
    "company_name4 = []\n",
    "for i in company_tags4:\n",
    "    company_name4.append(i.text)\n",
    "company_name4"
   ]
  },
  {
   "cell_type": "code",
   "execution_count": 131,
   "metadata": {},
   "outputs": [
    {
     "data": {
      "text/plain": [
       "[<selenium.webdriver.remote.webelement.WebElement (session=\"a9dd82189efefce5427bf16550f2171b\", element=\"382e12f0-8d63-4034-a2c8-ee2c447d0ac5\")>,\n",
       " <selenium.webdriver.remote.webelement.WebElement (session=\"a9dd82189efefce5427bf16550f2171b\", element=\"010fbe02-671e-413d-bccd-12c3fc4f550b\")>,\n",
       " <selenium.webdriver.remote.webelement.WebElement (session=\"a9dd82189efefce5427bf16550f2171b\", element=\"fb5480d3-4c47-4640-8eaa-3ae79d856645\")>,\n",
       " <selenium.webdriver.remote.webelement.WebElement (session=\"a9dd82189efefce5427bf16550f2171b\", element=\"07e3ee88-cf1c-499e-98b6-73be6c5826f9\")>,\n",
       " <selenium.webdriver.remote.webelement.WebElement (session=\"a9dd82189efefce5427bf16550f2171b\", element=\"94d0d4a9-c6ae-442c-9b52-034db3f54ea5\")>,\n",
       " <selenium.webdriver.remote.webelement.WebElement (session=\"a9dd82189efefce5427bf16550f2171b\", element=\"9331641b-960b-4af3-a906-77f69df055f6\")>,\n",
       " <selenium.webdriver.remote.webelement.WebElement (session=\"a9dd82189efefce5427bf16550f2171b\", element=\"e38dba55-bb7b-412b-9147-51d845bdfcf6\")>,\n",
       " <selenium.webdriver.remote.webelement.WebElement (session=\"a9dd82189efefce5427bf16550f2171b\", element=\"ed2d4f94-98c2-4f19-973d-e59319e731b9\")>,\n",
       " <selenium.webdriver.remote.webelement.WebElement (session=\"a9dd82189efefce5427bf16550f2171b\", element=\"d38af937-3768-4b94-8c63-bd26797d3563\")>,\n",
       " <selenium.webdriver.remote.webelement.WebElement (session=\"a9dd82189efefce5427bf16550f2171b\", element=\"653ed95e-9abe-4980-9099-9c9b88f4e14c\")>,\n",
       " <selenium.webdriver.remote.webelement.WebElement (session=\"a9dd82189efefce5427bf16550f2171b\", element=\"068384f2-445d-459e-91c7-c2bbc5547ba3\")>,\n",
       " <selenium.webdriver.remote.webelement.WebElement (session=\"a9dd82189efefce5427bf16550f2171b\", element=\"78998cff-4395-41ac-8df3-f2a1f61bc300\")>,\n",
       " <selenium.webdriver.remote.webelement.WebElement (session=\"a9dd82189efefce5427bf16550f2171b\", element=\"d8a92fde-7b2a-49af-8ce7-6679ca421443\")>,\n",
       " <selenium.webdriver.remote.webelement.WebElement (session=\"a9dd82189efefce5427bf16550f2171b\", element=\"12691ab1-31c4-4b3e-b9ec-7b735faa5144\")>,\n",
       " <selenium.webdriver.remote.webelement.WebElement (session=\"a9dd82189efefce5427bf16550f2171b\", element=\"ded91217-5abc-4a6d-87d1-176cefd622f0\")>,\n",
       " <selenium.webdriver.remote.webelement.WebElement (session=\"a9dd82189efefce5427bf16550f2171b\", element=\"53bd6335-3147-4c54-9b9e-675b73c908a0\")>,\n",
       " <selenium.webdriver.remote.webelement.WebElement (session=\"a9dd82189efefce5427bf16550f2171b\", element=\"3b2ec1e3-01c9-49a3-bad8-18f55117c7e1\")>,\n",
       " <selenium.webdriver.remote.webelement.WebElement (session=\"a9dd82189efefce5427bf16550f2171b\", element=\"b50fb90f-c359-4f89-ac50-11f7913e2112\")>,\n",
       " <selenium.webdriver.remote.webelement.WebElement (session=\"a9dd82189efefce5427bf16550f2171b\", element=\"2612afbf-d175-4c1e-b762-8bf2db6fd4ab\")>,\n",
       " <selenium.webdriver.remote.webelement.WebElement (session=\"a9dd82189efefce5427bf16550f2171b\", element=\"6391c80e-766a-4f15-acdf-767be3ed5d5d\")>,\n",
       " <selenium.webdriver.remote.webelement.WebElement (session=\"a9dd82189efefce5427bf16550f2171b\", element=\"6295783f-3c2e-4931-ad8d-91ff8ca3a1a5\")>,\n",
       " <selenium.webdriver.remote.webelement.WebElement (session=\"a9dd82189efefce5427bf16550f2171b\", element=\"434aaa45-8554-4a5d-bab4-8f46f3bcea07\")>,\n",
       " <selenium.webdriver.remote.webelement.WebElement (session=\"a9dd82189efefce5427bf16550f2171b\", element=\"55cb7772-d890-44ab-ab30-6c175e0e34e0\")>,\n",
       " <selenium.webdriver.remote.webelement.WebElement (session=\"a9dd82189efefce5427bf16550f2171b\", element=\"14883121-725b-43f8-8b98-728b6ffeecc5\")>,\n",
       " <selenium.webdriver.remote.webelement.WebElement (session=\"a9dd82189efefce5427bf16550f2171b\", element=\"62c07186-5186-4892-8317-34adb762b178\")>,\n",
       " <selenium.webdriver.remote.webelement.WebElement (session=\"a9dd82189efefce5427bf16550f2171b\", element=\"4d9870f7-984d-4146-91ac-e8cbbf8d4d0d\")>,\n",
       " <selenium.webdriver.remote.webelement.WebElement (session=\"a9dd82189efefce5427bf16550f2171b\", element=\"995599b2-52b5-4104-b603-8fea1873b015\")>,\n",
       " <selenium.webdriver.remote.webelement.WebElement (session=\"a9dd82189efefce5427bf16550f2171b\", element=\"f926e2b0-4bcf-4532-a535-c0cfc5386d80\")>,\n",
       " <selenium.webdriver.remote.webelement.WebElement (session=\"a9dd82189efefce5427bf16550f2171b\", element=\"0da7b4a8-ec1e-4489-ae1c-0a2bc352315a\")>,\n",
       " <selenium.webdriver.remote.webelement.WebElement (session=\"a9dd82189efefce5427bf16550f2171b\", element=\"43ce6b75-16e9-4dc4-95a6-77820ba4e598\")>]"
      ]
     },
     "execution_count": 131,
     "metadata": {},
     "output_type": "execute_result"
    }
   ],
   "source": [
    "no_of_days4= driver.find_elements_by_xpath('//div[@class=\"d-flex align-items-end pl-std css-mi55ob\"]')\n",
    "no_of_days4"
   ]
  },
  {
   "cell_type": "code",
   "execution_count": 132,
   "metadata": {},
   "outputs": [
    {
     "data": {
      "text/plain": [
       "['16d',\n",
       " '6d',\n",
       " '27d',\n",
       " '8d',\n",
       " '1d',\n",
       " '30d+',\n",
       " '30d+',\n",
       " '5d',\n",
       " '12d',\n",
       " '8d',\n",
       " '30d+',\n",
       " '30d+',\n",
       " '27d',\n",
       " '29d',\n",
       " '3d',\n",
       " '30d+',\n",
       " '6d',\n",
       " '3d',\n",
       " '6d',\n",
       " '8d',\n",
       " '30d+',\n",
       " '30d+',\n",
       " '6d',\n",
       " '30d+',\n",
       " '30d+',\n",
       " '30d+',\n",
       " '9d',\n",
       " '16d',\n",
       " '2d',\n",
       " '30d+']"
      ]
     },
     "execution_count": 132,
     "metadata": {},
     "output_type": "execute_result"
    }
   ],
   "source": [
    "days4 = []\n",
    "for i in no_of_days4:\n",
    "    days4.append(i.text)\n",
    "days4"
   ]
  },
  {
   "cell_type": "code",
   "execution_count": 133,
   "metadata": {},
   "outputs": [
    {
     "data": {
      "text/plain": [
       "[<selenium.webdriver.remote.webelement.WebElement (session=\"a9dd82189efefce5427bf16550f2171b\", element=\"317c0197-1828-4a9a-bc53-be095c0789e1\")>,\n",
       " <selenium.webdriver.remote.webelement.WebElement (session=\"a9dd82189efefce5427bf16550f2171b\", element=\"2681479a-9382-40ba-b63b-8896ce4dce00\")>,\n",
       " <selenium.webdriver.remote.webelement.WebElement (session=\"a9dd82189efefce5427bf16550f2171b\", element=\"7563db72-df4a-4424-a000-4c4f5bae7a57\")>,\n",
       " <selenium.webdriver.remote.webelement.WebElement (session=\"a9dd82189efefce5427bf16550f2171b\", element=\"19029447-3720-4102-b9fa-e5e8c7fe5b3e\")>,\n",
       " <selenium.webdriver.remote.webelement.WebElement (session=\"a9dd82189efefce5427bf16550f2171b\", element=\"251573f3-9fb0-46dd-b127-a759f57ba3cc\")>,\n",
       " <selenium.webdriver.remote.webelement.WebElement (session=\"a9dd82189efefce5427bf16550f2171b\", element=\"1e367fc0-ce06-4554-a159-fb28b81b3645\")>,\n",
       " <selenium.webdriver.remote.webelement.WebElement (session=\"a9dd82189efefce5427bf16550f2171b\", element=\"72027e0e-af86-4f1f-90ae-ec2c32d09f28\")>,\n",
       " <selenium.webdriver.remote.webelement.WebElement (session=\"a9dd82189efefce5427bf16550f2171b\", element=\"7e1d73fc-f1cc-437a-8993-60c1a969c489\")>,\n",
       " <selenium.webdriver.remote.webelement.WebElement (session=\"a9dd82189efefce5427bf16550f2171b\", element=\"6d57b5e8-53a4-4af7-86a0-a4f6899b44c1\")>,\n",
       " <selenium.webdriver.remote.webelement.WebElement (session=\"a9dd82189efefce5427bf16550f2171b\", element=\"a038eaa8-ea83-45ef-8aca-ec8a39c52663\")>,\n",
       " <selenium.webdriver.remote.webelement.WebElement (session=\"a9dd82189efefce5427bf16550f2171b\", element=\"b14b0089-b5c4-490a-aec1-7dec14e9f94d\")>,\n",
       " <selenium.webdriver.remote.webelement.WebElement (session=\"a9dd82189efefce5427bf16550f2171b\", element=\"6348eb2f-62b7-40e2-9527-7a9134daef4a\")>,\n",
       " <selenium.webdriver.remote.webelement.WebElement (session=\"a9dd82189efefce5427bf16550f2171b\", element=\"3511eed1-247f-4dc6-9ffa-9249f8464d6e\")>,\n",
       " <selenium.webdriver.remote.webelement.WebElement (session=\"a9dd82189efefce5427bf16550f2171b\", element=\"055260e7-05ab-4055-a57d-b09989213446\")>,\n",
       " <selenium.webdriver.remote.webelement.WebElement (session=\"a9dd82189efefce5427bf16550f2171b\", element=\"d69669d4-aaf3-43fb-8b1d-141b01d885cd\")>,\n",
       " <selenium.webdriver.remote.webelement.WebElement (session=\"a9dd82189efefce5427bf16550f2171b\", element=\"36d52292-6127-4b72-b5d5-9284727f2041\")>,\n",
       " <selenium.webdriver.remote.webelement.WebElement (session=\"a9dd82189efefce5427bf16550f2171b\", element=\"a1e4a5f1-848e-4608-9fd2-f5df771722fa\")>,\n",
       " <selenium.webdriver.remote.webelement.WebElement (session=\"a9dd82189efefce5427bf16550f2171b\", element=\"c4bd3b84-7eeb-4c6b-b723-6bfee195f47f\")>,\n",
       " <selenium.webdriver.remote.webelement.WebElement (session=\"a9dd82189efefce5427bf16550f2171b\", element=\"42d498a3-9c7f-410b-86a2-08dc68cf37d4\")>]"
      ]
     },
     "execution_count": 133,
     "metadata": {},
     "output_type": "execute_result"
    }
   ],
   "source": [
    "rating_tags4= driver.find_elements_by_xpath('//span[@class=\"css-19pjha7 e1cjmv6j1\"]')\n",
    "rating_tags4"
   ]
  },
  {
   "cell_type": "code",
   "execution_count": 134,
   "metadata": {},
   "outputs": [
    {
     "data": {
      "text/plain": [
       "['3.8',\n",
       " '5.0',\n",
       " '3.8',\n",
       " '4.6',\n",
       " '4.1',\n",
       " '4.1',\n",
       " '3.4',\n",
       " '3.9',\n",
       " '3.7',\n",
       " '4.7',\n",
       " '4.4',\n",
       " '4.7',\n",
       " '3.1',\n",
       " '2.4',\n",
       " '3.8',\n",
       " '3.8',\n",
       " '3.8',\n",
       " '3.7',\n",
       " '3.8']"
      ]
     },
     "execution_count": 134,
     "metadata": {},
     "output_type": "execute_result"
    }
   ],
   "source": [
    "ratings4 = []\n",
    "for i in rating_tags4:\n",
    "    ratings4.append(i.text)\n",
    "ratings4"
   ]
  },
  {
   "cell_type": "code",
   "execution_count": 135,
   "metadata": {},
   "outputs": [
    {
     "data": {
      "text/html": [
       "<div>\n",
       "<style scoped>\n",
       "    .dataframe tbody tr th:only-of-type {\n",
       "        vertical-align: middle;\n",
       "    }\n",
       "\n",
       "    .dataframe tbody tr th {\n",
       "        vertical-align: top;\n",
       "    }\n",
       "\n",
       "    .dataframe thead th {\n",
       "        text-align: right;\n",
       "    }\n",
       "</style>\n",
       "<table border=\"1\" class=\"dataframe\">\n",
       "  <thead>\n",
       "    <tr style=\"text-align: right;\">\n",
       "      <th></th>\n",
       "      <th>COMPANY</th>\n",
       "      <th>NO.OF DAYS AGO WHEN JOB WAS POSTED</th>\n",
       "      <th>RATING OF THE COMPANY</th>\n",
       "    </tr>\n",
       "  </thead>\n",
       "  <tbody>\n",
       "    <tr>\n",
       "      <th>0</th>\n",
       "      <td>Liberin Technologies Private Limited</td>\n",
       "      <td>16d</td>\n",
       "      <td>3.8</td>\n",
       "    </tr>\n",
       "    <tr>\n",
       "      <th>1</th>\n",
       "      <td>Data Trained Education</td>\n",
       "      <td>6d</td>\n",
       "      <td>5.0</td>\n",
       "    </tr>\n",
       "    <tr>\n",
       "      <th>2</th>\n",
       "      <td>Pixel Vision</td>\n",
       "      <td>27d</td>\n",
       "      <td>3.8</td>\n",
       "    </tr>\n",
       "    <tr>\n",
       "      <th>3</th>\n",
       "      <td>Emerging India Analytics</td>\n",
       "      <td>8d</td>\n",
       "      <td>4.6</td>\n",
       "    </tr>\n",
       "    <tr>\n",
       "      <th>4</th>\n",
       "      <td>CRMNEXT</td>\n",
       "      <td>1d</td>\n",
       "      <td>4.1</td>\n",
       "    </tr>\n",
       "    <tr>\n",
       "      <th>5</th>\n",
       "      <td>Techlive</td>\n",
       "      <td>30d+</td>\n",
       "      <td>4.1</td>\n",
       "    </tr>\n",
       "    <tr>\n",
       "      <th>6</th>\n",
       "      <td>Crowe</td>\n",
       "      <td>30d+</td>\n",
       "      <td>3.4</td>\n",
       "    </tr>\n",
       "    <tr>\n",
       "      <th>7</th>\n",
       "      <td>DataTrained</td>\n",
       "      <td>5d</td>\n",
       "      <td>3.9</td>\n",
       "    </tr>\n",
       "    <tr>\n",
       "      <th>8</th>\n",
       "      <td>Ericsson</td>\n",
       "      <td>12d</td>\n",
       "      <td>3.7</td>\n",
       "    </tr>\n",
       "    <tr>\n",
       "      <th>9</th>\n",
       "      <td>Uncodemy</td>\n",
       "      <td>8d</td>\n",
       "      <td>4.7</td>\n",
       "    </tr>\n",
       "  </tbody>\n",
       "</table>\n",
       "</div>"
      ],
      "text/plain": [
       "                                COMPANY NO.OF DAYS AGO WHEN JOB WAS POSTED  \\\n",
       "0  Liberin Technologies Private Limited                                16d   \n",
       "1                Data Trained Education                                 6d   \n",
       "2                          Pixel Vision                                27d   \n",
       "3              Emerging India Analytics                                 8d   \n",
       "4                               CRMNEXT                                 1d   \n",
       "5                              Techlive                               30d+   \n",
       "6                                 Crowe                               30d+   \n",
       "7                           DataTrained                                 5d   \n",
       "8                              Ericsson                                12d   \n",
       "9                              Uncodemy                                 8d   \n",
       "\n",
       "  RATING OF THE COMPANY  \n",
       "0                   3.8  \n",
       "1                   5.0  \n",
       "2                   3.8  \n",
       "3                   4.6  \n",
       "4                   4.1  \n",
       "5                   4.1  \n",
       "6                   3.4  \n",
       "7                   3.9  \n",
       "8                   3.7  \n",
       "9                   4.7  "
      ]
     },
     "execution_count": 135,
     "metadata": {},
     "output_type": "execute_result"
    }
   ],
   "source": [
    "jobs4 = pd.DataFrame({})\n",
    "\n",
    "jobs4['COMPANY'] = company_name4[0:10]\n",
    "jobs4['NO.OF DAYS AGO WHEN JOB WAS POSTED'] = days4[0:10]\n",
    "jobs4['RATING OF THE COMPANY'] = ratings4[0:10]\n",
    "jobs4"
   ]
  },
  {
   "cell_type": "markdown",
   "metadata": {},
   "source": [
    "# Q5. Data scientist job salary in Noida location from the webpage https://www.glassdoor.co.in/index.htm¶"
   ]
  },
  {
   "cell_type": "code",
   "execution_count": 38,
   "metadata": {},
   "outputs": [],
   "source": [
    "driver = webdriver.Chrome('chromedriver.exe')"
   ]
  },
  {
   "cell_type": "code",
   "execution_count": 39,
   "metadata": {},
   "outputs": [],
   "source": [
    "url = 'https://www.glassdoor.co.in/Salaries/index.htm'\n",
    "driver.get(url)"
   ]
  },
  {
   "cell_type": "code",
   "execution_count": 40,
   "metadata": {},
   "outputs": [
    {
     "data": {
      "text/plain": [
       "<selenium.webdriver.remote.webelement.WebElement (session=\"dc40abef7ef8d9347d52a7b2d901ec8f\", element=\"1ded61a7-9bdd-4427-8017-acd6fabf82b1\")>"
      ]
     },
     "execution_count": 40,
     "metadata": {},
     "output_type": "execute_result"
    }
   ],
   "source": [
    "search_job5 = driver.find_element_by_id('KeywordSearch')\n",
    "search_job5"
   ]
  },
  {
   "cell_type": "code",
   "execution_count": 41,
   "metadata": {},
   "outputs": [],
   "source": [
    "search_job5.send_keys('Data Scientist')"
   ]
  },
  {
   "cell_type": "code",
   "execution_count": 42,
   "metadata": {},
   "outputs": [],
   "source": [
    "search_loc5 =driver.find_element_by_id('LocationSearch')\n",
    "search_loc5.send_keys('Noida')"
   ]
  },
  {
   "cell_type": "code",
   "execution_count": 43,
   "metadata": {},
   "outputs": [],
   "source": [
    "btn = driver.find_element_by_id('HeroSearchButton')\n",
    "btn.click()"
   ]
  },
  {
   "cell_type": "code",
   "execution_count": 46,
   "metadata": {},
   "outputs": [
    {
     "ename": "SyntaxError",
     "evalue": "invalid syntax (<ipython-input-46-a83c260da646>, line 3)",
     "output_type": "error",
     "traceback": [
      "\u001b[1;36m  File \u001b[1;32m\"<ipython-input-46-a83c260da646>\"\u001b[1;36m, line \u001b[1;32m3\u001b[0m\n\u001b[1;33m    company=driver.find_elements_by_xpath(\"//h3[@class=\"m-0 css-g261rn\"]\")\u001b[0m\n\u001b[1;37m                                                        ^\u001b[0m\n\u001b[1;31mSyntaxError\u001b[0m\u001b[1;31m:\u001b[0m invalid syntax\n"
     ]
    }
   ],
   "source": [
    "company_name = []\n",
    "\n",
    "company=driver.find_elements_by_xpath(\"//h3[@class=\"m-0 css-g261rn\"]\")\n",
    "\n",
    "for i in company:\n",
    "\n",
    "    if i.text is None :\n",
    "\n",
    "        company_name.append(\"--\")      \n",
    "\n",
    "    else:\n",
    "\n",
    "        company_name.append(i.text)\n",
    "\n",
    "company_name"
   ]
  },
  {
   "cell_type": "markdown",
   "metadata": {},
   "source": [
    "# Q6. first 100 sunglasses listings on flipkart.com"
   ]
  },
  {
   "cell_type": "code",
   "execution_count": 96,
   "metadata": {},
   "outputs": [],
   "source": [
    "driver = webdriver.Chrome('chromedriver.exe')"
   ]
  },
  {
   "cell_type": "code",
   "execution_count": 97,
   "metadata": {},
   "outputs": [],
   "source": [
    "url = 'https://www.flipkart.com/'\n",
    "driver.get(url)"
   ]
  },
  {
   "cell_type": "code",
   "execution_count": 102,
   "metadata": {},
   "outputs": [
    {
     "data": {
      "text/plain": [
       "<selenium.webdriver.remote.webelement.WebElement (session=\"1635944e477a9c1e128b8fc7dfb25939\", element=\"ed32a4bb-7755-4ab8-9ef7-8d4819b70225\")>"
      ]
     },
     "execution_count": 102,
     "metadata": {},
     "output_type": "execute_result"
    }
   ],
   "source": [
    "search_sunglass = driver.find_element_by_xpath('//input[@class=\"_3704LK\"]')\n",
    "search_sunglass"
   ]
  },
  {
   "cell_type": "code",
   "execution_count": 103,
   "metadata": {},
   "outputs": [],
   "source": [
    "search_sunglass.send_keys('sunglasses')"
   ]
  },
  {
   "cell_type": "code",
   "execution_count": 105,
   "metadata": {},
   "outputs": [
    {
     "ename": "ElementClickInterceptedException",
     "evalue": "Message: element click intercepted: Element is not clickable at point (538, 28)\n  (Session info: chrome=92.0.4515.131)\n",
     "output_type": "error",
     "traceback": [
      "\u001b[1;31m---------------------------------------------------------------------------\u001b[0m",
      "\u001b[1;31mElementClickInterceptedException\u001b[0m          Traceback (most recent call last)",
      "\u001b[1;32m<ipython-input-105-175875f87f09>\u001b[0m in \u001b[0;36m<module>\u001b[1;34m\u001b[0m\n\u001b[0;32m      1\u001b[0m \u001b[0mbtn\u001b[0m \u001b[1;33m=\u001b[0m \u001b[0mdriver\u001b[0m\u001b[1;33m.\u001b[0m\u001b[0mfind_element_by_xpath\u001b[0m\u001b[1;33m(\u001b[0m\u001b[1;34m'//button[@class=\"L0Z3Pu\"]'\u001b[0m\u001b[1;33m)\u001b[0m\u001b[1;33m\u001b[0m\u001b[1;33m\u001b[0m\u001b[0m\n\u001b[1;32m----> 2\u001b[1;33m \u001b[0mbtn\u001b[0m\u001b[1;33m.\u001b[0m\u001b[0mclick\u001b[0m\u001b[1;33m(\u001b[0m\u001b[1;33m)\u001b[0m\u001b[1;33m\u001b[0m\u001b[1;33m\u001b[0m\u001b[0m\n\u001b[0m",
      "\u001b[1;32m~\\Anaconda3\\lib\\site-packages\\selenium\\webdriver\\remote\\webelement.py\u001b[0m in \u001b[0;36mclick\u001b[1;34m(self)\u001b[0m\n\u001b[0;32m     78\u001b[0m     \u001b[1;32mdef\u001b[0m \u001b[0mclick\u001b[0m\u001b[1;33m(\u001b[0m\u001b[0mself\u001b[0m\u001b[1;33m)\u001b[0m\u001b[1;33m:\u001b[0m\u001b[1;33m\u001b[0m\u001b[1;33m\u001b[0m\u001b[0m\n\u001b[0;32m     79\u001b[0m         \u001b[1;34m\"\"\"Clicks the element.\"\"\"\u001b[0m\u001b[1;33m\u001b[0m\u001b[1;33m\u001b[0m\u001b[0m\n\u001b[1;32m---> 80\u001b[1;33m         \u001b[0mself\u001b[0m\u001b[1;33m.\u001b[0m\u001b[0m_execute\u001b[0m\u001b[1;33m(\u001b[0m\u001b[0mCommand\u001b[0m\u001b[1;33m.\u001b[0m\u001b[0mCLICK_ELEMENT\u001b[0m\u001b[1;33m)\u001b[0m\u001b[1;33m\u001b[0m\u001b[1;33m\u001b[0m\u001b[0m\n\u001b[0m\u001b[0;32m     81\u001b[0m \u001b[1;33m\u001b[0m\u001b[0m\n\u001b[0;32m     82\u001b[0m     \u001b[1;32mdef\u001b[0m \u001b[0msubmit\u001b[0m\u001b[1;33m(\u001b[0m\u001b[0mself\u001b[0m\u001b[1;33m)\u001b[0m\u001b[1;33m:\u001b[0m\u001b[1;33m\u001b[0m\u001b[1;33m\u001b[0m\u001b[0m\n",
      "\u001b[1;32m~\\Anaconda3\\lib\\site-packages\\selenium\\webdriver\\remote\\webelement.py\u001b[0m in \u001b[0;36m_execute\u001b[1;34m(self, command, params)\u001b[0m\n\u001b[0;32m    631\u001b[0m             \u001b[0mparams\u001b[0m \u001b[1;33m=\u001b[0m \u001b[1;33m{\u001b[0m\u001b[1;33m}\u001b[0m\u001b[1;33m\u001b[0m\u001b[1;33m\u001b[0m\u001b[0m\n\u001b[0;32m    632\u001b[0m         \u001b[0mparams\u001b[0m\u001b[1;33m[\u001b[0m\u001b[1;34m'id'\u001b[0m\u001b[1;33m]\u001b[0m \u001b[1;33m=\u001b[0m \u001b[0mself\u001b[0m\u001b[1;33m.\u001b[0m\u001b[0m_id\u001b[0m\u001b[1;33m\u001b[0m\u001b[1;33m\u001b[0m\u001b[0m\n\u001b[1;32m--> 633\u001b[1;33m         \u001b[1;32mreturn\u001b[0m \u001b[0mself\u001b[0m\u001b[1;33m.\u001b[0m\u001b[0m_parent\u001b[0m\u001b[1;33m.\u001b[0m\u001b[0mexecute\u001b[0m\u001b[1;33m(\u001b[0m\u001b[0mcommand\u001b[0m\u001b[1;33m,\u001b[0m \u001b[0mparams\u001b[0m\u001b[1;33m)\u001b[0m\u001b[1;33m\u001b[0m\u001b[1;33m\u001b[0m\u001b[0m\n\u001b[0m\u001b[0;32m    634\u001b[0m \u001b[1;33m\u001b[0m\u001b[0m\n\u001b[0;32m    635\u001b[0m     \u001b[1;32mdef\u001b[0m \u001b[0mfind_element\u001b[0m\u001b[1;33m(\u001b[0m\u001b[0mself\u001b[0m\u001b[1;33m,\u001b[0m \u001b[0mby\u001b[0m\u001b[1;33m=\u001b[0m\u001b[0mBy\u001b[0m\u001b[1;33m.\u001b[0m\u001b[0mID\u001b[0m\u001b[1;33m,\u001b[0m \u001b[0mvalue\u001b[0m\u001b[1;33m=\u001b[0m\u001b[1;32mNone\u001b[0m\u001b[1;33m)\u001b[0m\u001b[1;33m:\u001b[0m\u001b[1;33m\u001b[0m\u001b[1;33m\u001b[0m\u001b[0m\n",
      "\u001b[1;32m~\\Anaconda3\\lib\\site-packages\\selenium\\webdriver\\remote\\webdriver.py\u001b[0m in \u001b[0;36mexecute\u001b[1;34m(self, driver_command, params)\u001b[0m\n\u001b[0;32m    319\u001b[0m         \u001b[0mresponse\u001b[0m \u001b[1;33m=\u001b[0m \u001b[0mself\u001b[0m\u001b[1;33m.\u001b[0m\u001b[0mcommand_executor\u001b[0m\u001b[1;33m.\u001b[0m\u001b[0mexecute\u001b[0m\u001b[1;33m(\u001b[0m\u001b[0mdriver_command\u001b[0m\u001b[1;33m,\u001b[0m \u001b[0mparams\u001b[0m\u001b[1;33m)\u001b[0m\u001b[1;33m\u001b[0m\u001b[1;33m\u001b[0m\u001b[0m\n\u001b[0;32m    320\u001b[0m         \u001b[1;32mif\u001b[0m \u001b[0mresponse\u001b[0m\u001b[1;33m:\u001b[0m\u001b[1;33m\u001b[0m\u001b[1;33m\u001b[0m\u001b[0m\n\u001b[1;32m--> 321\u001b[1;33m             \u001b[0mself\u001b[0m\u001b[1;33m.\u001b[0m\u001b[0merror_handler\u001b[0m\u001b[1;33m.\u001b[0m\u001b[0mcheck_response\u001b[0m\u001b[1;33m(\u001b[0m\u001b[0mresponse\u001b[0m\u001b[1;33m)\u001b[0m\u001b[1;33m\u001b[0m\u001b[1;33m\u001b[0m\u001b[0m\n\u001b[0m\u001b[0;32m    322\u001b[0m             response['value'] = self._unwrap_value(\n\u001b[0;32m    323\u001b[0m                 response.get('value', None))\n",
      "\u001b[1;32m~\\Anaconda3\\lib\\site-packages\\selenium\\webdriver\\remote\\errorhandler.py\u001b[0m in \u001b[0;36mcheck_response\u001b[1;34m(self, response)\u001b[0m\n\u001b[0;32m    240\u001b[0m                 \u001b[0malert_text\u001b[0m \u001b[1;33m=\u001b[0m \u001b[0mvalue\u001b[0m\u001b[1;33m[\u001b[0m\u001b[1;34m'alert'\u001b[0m\u001b[1;33m]\u001b[0m\u001b[1;33m.\u001b[0m\u001b[0mget\u001b[0m\u001b[1;33m(\u001b[0m\u001b[1;34m'text'\u001b[0m\u001b[1;33m)\u001b[0m\u001b[1;33m\u001b[0m\u001b[1;33m\u001b[0m\u001b[0m\n\u001b[0;32m    241\u001b[0m             \u001b[1;32mraise\u001b[0m \u001b[0mexception_class\u001b[0m\u001b[1;33m(\u001b[0m\u001b[0mmessage\u001b[0m\u001b[1;33m,\u001b[0m \u001b[0mscreen\u001b[0m\u001b[1;33m,\u001b[0m \u001b[0mstacktrace\u001b[0m\u001b[1;33m,\u001b[0m \u001b[0malert_text\u001b[0m\u001b[1;33m)\u001b[0m\u001b[1;33m\u001b[0m\u001b[1;33m\u001b[0m\u001b[0m\n\u001b[1;32m--> 242\u001b[1;33m         \u001b[1;32mraise\u001b[0m \u001b[0mexception_class\u001b[0m\u001b[1;33m(\u001b[0m\u001b[0mmessage\u001b[0m\u001b[1;33m,\u001b[0m \u001b[0mscreen\u001b[0m\u001b[1;33m,\u001b[0m \u001b[0mstacktrace\u001b[0m\u001b[1;33m)\u001b[0m\u001b[1;33m\u001b[0m\u001b[1;33m\u001b[0m\u001b[0m\n\u001b[0m\u001b[0;32m    243\u001b[0m \u001b[1;33m\u001b[0m\u001b[0m\n\u001b[0;32m    244\u001b[0m     \u001b[1;32mdef\u001b[0m \u001b[0m_value_or_default\u001b[0m\u001b[1;33m(\u001b[0m\u001b[0mself\u001b[0m\u001b[1;33m,\u001b[0m \u001b[0mobj\u001b[0m\u001b[1;33m,\u001b[0m \u001b[0mkey\u001b[0m\u001b[1;33m,\u001b[0m \u001b[0mdefault\u001b[0m\u001b[1;33m)\u001b[0m\u001b[1;33m:\u001b[0m\u001b[1;33m\u001b[0m\u001b[1;33m\u001b[0m\u001b[0m\n",
      "\u001b[1;31mElementClickInterceptedException\u001b[0m: Message: element click intercepted: Element is not clickable at point (538, 28)\n  (Session info: chrome=92.0.4515.131)\n"
     ]
    }
   ],
   "source": [
    "btn = driver.find_element_by_xpath('//button[@class=\"L0Z3Pu\"]')\n",
    "btn.click()"
   ]
  },
  {
   "cell_type": "code",
   "execution_count": 106,
   "metadata": {},
   "outputs": [
    {
     "data": {
      "text/plain": [
       "[]"
      ]
     },
     "execution_count": 106,
     "metadata": {},
     "output_type": "execute_result"
    }
   ],
   "source": [
    "sunglass_name_tags = driver.find_elements_by_xpath('//div[@class=\"_2WkVRV\"]')\n",
    "sunglass_name_tags"
   ]
  },
  {
   "cell_type": "code",
   "execution_count": 107,
   "metadata": {},
   "outputs": [
    {
     "data": {
      "text/plain": [
       "[]"
      ]
     },
     "execution_count": 107,
     "metadata": {},
     "output_type": "execute_result"
    }
   ],
   "source": [
    "sunglass_name = []\n",
    "for i in sunglass_name_tags:\n",
    "    sunglass_name.append(i.text)\n",
    "sunglass_name"
   ]
  },
  {
   "cell_type": "code",
   "execution_count": 108,
   "metadata": {},
   "outputs": [
    {
     "data": {
      "text/plain": [
       "[]"
      ]
     },
     "execution_count": 108,
     "metadata": {},
     "output_type": "execute_result"
    }
   ],
   "source": [
    "sunglass_name_tags = driver.find_elements_by_xpath('//div[@class=\"_2WkVRV\"]')\n",
    "sunglass_name_tags"
   ]
  },
  {
   "cell_type": "markdown",
   "metadata": {},
   "source": [
    "# Q7. 100 reviews data from flipkart.com for iphone11 phone"
   ]
  },
  {
   "cell_type": "code",
   "execution_count": 109,
   "metadata": {},
   "outputs": [],
   "source": [
    "driver = webdriver.Chrome('chromedriver.exe')"
   ]
  },
  {
   "cell_type": "code",
   "execution_count": 110,
   "metadata": {},
   "outputs": [],
   "source": [
    "url = ('https://www.flipkart.com/apple-iphone-11-black-64-gb-includes-earpods-power-adapter/p/itm0f37c2240b217?pid=MOBFKCTSVZAXUHGR&lid=LSTMOBFKCTSVZAXUHGREPBFGI&marketplace')\n",
    "\n",
    "driver.get(url)"
   ]
  },
  {
   "cell_type": "code",
   "execution_count": 112,
   "metadata": {},
   "outputs": [
    {
     "data": {
      "text/plain": [
       "<selenium.webdriver.remote.webelement.WebElement (session=\"28612002763263b5bba7182293a09862\", element=\"04a8398b-4291-4ad0-ac3a-9140404cd4d3\")>"
      ]
     },
     "execution_count": 112,
     "metadata": {},
     "output_type": "execute_result"
    }
   ],
   "source": [
    "rating_tags = driver.find_element_by_xpath('//div[@class=\"_3LWZlK\"]')\n",
    "rating_tags"
   ]
  },
  {
   "cell_type": "code",
   "execution_count": 116,
   "metadata": {},
   "outputs": [
    {
     "ename": "InvalidArgumentException",
     "evalue": "Message: invalid argument\n  (Session info: chrome=92.0.4515.131)\n",
     "output_type": "error",
     "traceback": [
      "\u001b[1;31m---------------------------------------------------------------------------\u001b[0m",
      "\u001b[1;31mInvalidArgumentException\u001b[0m                  Traceback (most recent call last)",
      "\u001b[1;32m<ipython-input-116-0ec2073e1942>\u001b[0m in \u001b[0;36m<module>\u001b[1;34m\u001b[0m\n\u001b[0;32m      2\u001b[0m \u001b[1;33m\u001b[0m\u001b[0m\n\u001b[0;32m      3\u001b[0m \u001b[1;32mfor\u001b[0m \u001b[0mi\u001b[0m \u001b[1;32min\u001b[0m \u001b[0murl\u001b[0m\u001b[1;33m:\u001b[0m\u001b[1;33m\u001b[0m\u001b[1;33m\u001b[0m\u001b[0m\n\u001b[1;32m----> 4\u001b[1;33m     \u001b[0mdriver\u001b[0m\u001b[1;33m.\u001b[0m\u001b[0mget\u001b[0m\u001b[1;33m(\u001b[0m\u001b[0mi\u001b[0m\u001b[1;33m)\u001b[0m\u001b[1;33m\u001b[0m\u001b[1;33m\u001b[0m\u001b[0m\n\u001b[0m\u001b[0;32m      5\u001b[0m     \u001b[0mtime\u001b[0m\u001b[1;33m.\u001b[0m\u001b[0msleep\u001b[0m\u001b[1;33m(\u001b[0m\u001b[1;36m5\u001b[0m\u001b[1;33m)\u001b[0m\u001b[1;33m\u001b[0m\u001b[1;33m\u001b[0m\u001b[0m\n\u001b[0;32m      6\u001b[0m \u001b[1;33m\u001b[0m\u001b[0m\n",
      "\u001b[1;32m~\\Anaconda3\\lib\\site-packages\\selenium\\webdriver\\remote\\webdriver.py\u001b[0m in \u001b[0;36mget\u001b[1;34m(self, url)\u001b[0m\n\u001b[0;32m    331\u001b[0m         \u001b[0mLoads\u001b[0m \u001b[0ma\u001b[0m \u001b[0mweb\u001b[0m \u001b[0mpage\u001b[0m \u001b[1;32min\u001b[0m \u001b[0mthe\u001b[0m \u001b[0mcurrent\u001b[0m \u001b[0mbrowser\u001b[0m \u001b[0msession\u001b[0m\u001b[1;33m.\u001b[0m\u001b[1;33m\u001b[0m\u001b[1;33m\u001b[0m\u001b[0m\n\u001b[0;32m    332\u001b[0m         \"\"\"\n\u001b[1;32m--> 333\u001b[1;33m         \u001b[0mself\u001b[0m\u001b[1;33m.\u001b[0m\u001b[0mexecute\u001b[0m\u001b[1;33m(\u001b[0m\u001b[0mCommand\u001b[0m\u001b[1;33m.\u001b[0m\u001b[0mGET\u001b[0m\u001b[1;33m,\u001b[0m \u001b[1;33m{\u001b[0m\u001b[1;34m'url'\u001b[0m\u001b[1;33m:\u001b[0m \u001b[0murl\u001b[0m\u001b[1;33m}\u001b[0m\u001b[1;33m)\u001b[0m\u001b[1;33m\u001b[0m\u001b[1;33m\u001b[0m\u001b[0m\n\u001b[0m\u001b[0;32m    334\u001b[0m \u001b[1;33m\u001b[0m\u001b[0m\n\u001b[0;32m    335\u001b[0m     \u001b[1;33m@\u001b[0m\u001b[0mproperty\u001b[0m\u001b[1;33m\u001b[0m\u001b[1;33m\u001b[0m\u001b[0m\n",
      "\u001b[1;32m~\\Anaconda3\\lib\\site-packages\\selenium\\webdriver\\remote\\webdriver.py\u001b[0m in \u001b[0;36mexecute\u001b[1;34m(self, driver_command, params)\u001b[0m\n\u001b[0;32m    319\u001b[0m         \u001b[0mresponse\u001b[0m \u001b[1;33m=\u001b[0m \u001b[0mself\u001b[0m\u001b[1;33m.\u001b[0m\u001b[0mcommand_executor\u001b[0m\u001b[1;33m.\u001b[0m\u001b[0mexecute\u001b[0m\u001b[1;33m(\u001b[0m\u001b[0mdriver_command\u001b[0m\u001b[1;33m,\u001b[0m \u001b[0mparams\u001b[0m\u001b[1;33m)\u001b[0m\u001b[1;33m\u001b[0m\u001b[1;33m\u001b[0m\u001b[0m\n\u001b[0;32m    320\u001b[0m         \u001b[1;32mif\u001b[0m \u001b[0mresponse\u001b[0m\u001b[1;33m:\u001b[0m\u001b[1;33m\u001b[0m\u001b[1;33m\u001b[0m\u001b[0m\n\u001b[1;32m--> 321\u001b[1;33m             \u001b[0mself\u001b[0m\u001b[1;33m.\u001b[0m\u001b[0merror_handler\u001b[0m\u001b[1;33m.\u001b[0m\u001b[0mcheck_response\u001b[0m\u001b[1;33m(\u001b[0m\u001b[0mresponse\u001b[0m\u001b[1;33m)\u001b[0m\u001b[1;33m\u001b[0m\u001b[1;33m\u001b[0m\u001b[0m\n\u001b[0m\u001b[0;32m    322\u001b[0m             response['value'] = self._unwrap_value(\n\u001b[0;32m    323\u001b[0m                 response.get('value', None))\n",
      "\u001b[1;32m~\\Anaconda3\\lib\\site-packages\\selenium\\webdriver\\remote\\errorhandler.py\u001b[0m in \u001b[0;36mcheck_response\u001b[1;34m(self, response)\u001b[0m\n\u001b[0;32m    240\u001b[0m                 \u001b[0malert_text\u001b[0m \u001b[1;33m=\u001b[0m \u001b[0mvalue\u001b[0m\u001b[1;33m[\u001b[0m\u001b[1;34m'alert'\u001b[0m\u001b[1;33m]\u001b[0m\u001b[1;33m.\u001b[0m\u001b[0mget\u001b[0m\u001b[1;33m(\u001b[0m\u001b[1;34m'text'\u001b[0m\u001b[1;33m)\u001b[0m\u001b[1;33m\u001b[0m\u001b[1;33m\u001b[0m\u001b[0m\n\u001b[0;32m    241\u001b[0m             \u001b[1;32mraise\u001b[0m \u001b[0mexception_class\u001b[0m\u001b[1;33m(\u001b[0m\u001b[0mmessage\u001b[0m\u001b[1;33m,\u001b[0m \u001b[0mscreen\u001b[0m\u001b[1;33m,\u001b[0m \u001b[0mstacktrace\u001b[0m\u001b[1;33m,\u001b[0m \u001b[0malert_text\u001b[0m\u001b[1;33m)\u001b[0m\u001b[1;33m\u001b[0m\u001b[1;33m\u001b[0m\u001b[0m\n\u001b[1;32m--> 242\u001b[1;33m         \u001b[1;32mraise\u001b[0m \u001b[0mexception_class\u001b[0m\u001b[1;33m(\u001b[0m\u001b[0mmessage\u001b[0m\u001b[1;33m,\u001b[0m \u001b[0mscreen\u001b[0m\u001b[1;33m,\u001b[0m \u001b[0mstacktrace\u001b[0m\u001b[1;33m)\u001b[0m\u001b[1;33m\u001b[0m\u001b[1;33m\u001b[0m\u001b[0m\n\u001b[0m\u001b[0;32m    243\u001b[0m \u001b[1;33m\u001b[0m\u001b[0m\n\u001b[0;32m    244\u001b[0m     \u001b[1;32mdef\u001b[0m \u001b[0m_value_or_default\u001b[0m\u001b[1;33m(\u001b[0m\u001b[0mself\u001b[0m\u001b[1;33m,\u001b[0m \u001b[0mobj\u001b[0m\u001b[1;33m,\u001b[0m \u001b[0mkey\u001b[0m\u001b[1;33m,\u001b[0m \u001b[0mdefault\u001b[0m\u001b[1;33m)\u001b[0m\u001b[1;33m:\u001b[0m\u001b[1;33m\u001b[0m\u001b[1;33m\u001b[0m\u001b[0m\n",
      "\u001b[1;31mInvalidArgumentException\u001b[0m: Message: invalid argument\n  (Session info: chrome=92.0.4515.131)\n"
     ]
    }
   ],
   "source": [
    "rating = []\n",
    "\n",
    "for i in url:\n",
    "    driver.get(i)\n",
    "    time.sleep(5)\n",
    "    \n",
    "try:\n",
    "    rating_tags = driver.find_element_by_xpath('//div[@class=\"_3LWZlK\"]')\n",
    "    rating.append(laptop_title.text.replace('/n','new line'))\n",
    "    \n",
    "except NoSuchElementException:\n",
    "    rating.append('--')"
   ]
  },
  {
   "cell_type": "markdown",
   "metadata": {},
   "source": [
    "# Q8. 100 sneakers you find when you visit flipkart.com"
   ]
  },
  {
   "cell_type": "code",
   "execution_count": 117,
   "metadata": {},
   "outputs": [],
   "source": [
    "driver = webdriver.Chrome('chromedriver.exe')"
   ]
  },
  {
   "cell_type": "code",
   "execution_count": 119,
   "metadata": {},
   "outputs": [],
   "source": [
    "url = ('https://www.flipkart.com/')\n",
    "\n",
    "driver.get(url)"
   ]
  },
  {
   "cell_type": "code",
   "execution_count": 121,
   "metadata": {},
   "outputs": [],
   "source": [
    "brand_tags = driver.find_element_by_xpath('//input[@class=\"_3704LK\"]')\n",
    "brand_tags.send_keys('sneakers')"
   ]
  },
  {
   "cell_type": "code",
   "execution_count": 122,
   "metadata": {},
   "outputs": [],
   "source": [
    "search_btn = driver.find_element_by_xpath('//button[@class=\"L0Z3Pu\"]')\n",
    "search_btn.click()"
   ]
  },
  {
   "cell_type": "code",
   "execution_count": 123,
   "metadata": {},
   "outputs": [
    {
     "data": {
      "text/plain": [
       "<selenium.webdriver.remote.webelement.WebElement (session=\"f6291191dd68fabed0b777f7581d2243\", element=\"ff3db8af-3491-4f8c-a637-4344a934c0dc\")>"
      ]
     },
     "execution_count": 123,
     "metadata": {},
     "output_type": "execute_result"
    }
   ],
   "source": [
    "b = driver.find_element_by_xpath('//div[@class=\"_2WkVRV\"]')\n",
    "b"
   ]
  },
  {
   "cell_type": "code",
   "execution_count": 126,
   "metadata": {},
   "outputs": [
    {
     "ename": "TypeError",
     "evalue": "'WebElement' object is not iterable",
     "output_type": "error",
     "traceback": [
      "\u001b[1;31m---------------------------------------------------------------------------\u001b[0m",
      "\u001b[1;31mTypeError\u001b[0m                                 Traceback (most recent call last)",
      "\u001b[1;32m<ipython-input-126-c8ab8f026714>\u001b[0m in \u001b[0;36m<module>\u001b[1;34m\u001b[0m\n\u001b[0;32m      1\u001b[0m \u001b[0mbrand_name\u001b[0m \u001b[1;33m=\u001b[0m \u001b[1;33m[\u001b[0m\u001b[1;33m]\u001b[0m\u001b[1;33m\u001b[0m\u001b[1;33m\u001b[0m\u001b[0m\n\u001b[0;32m      2\u001b[0m \u001b[1;33m\u001b[0m\u001b[0m\n\u001b[1;32m----> 3\u001b[1;33m \u001b[1;32mfor\u001b[0m \u001b[0mi\u001b[0m \u001b[1;32min\u001b[0m \u001b[0mb\u001b[0m\u001b[1;33m:\u001b[0m\u001b[1;33m\u001b[0m\u001b[1;33m\u001b[0m\u001b[0m\n\u001b[0m\u001b[0;32m      4\u001b[0m     \u001b[0mdriver\u001b[0m\u001b[1;33m.\u001b[0m\u001b[0mget\u001b[0m\u001b[1;33m(\u001b[0m\u001b[0mi\u001b[0m\u001b[1;33m)\u001b[0m\u001b[1;33m\u001b[0m\u001b[1;33m\u001b[0m\u001b[0m\n\u001b[0;32m      5\u001b[0m     \u001b[0mtime\u001b[0m\u001b[1;33m.\u001b[0m\u001b[0msleep\u001b[0m\u001b[1;33m(\u001b[0m\u001b[1;36m5\u001b[0m\u001b[1;33m)\u001b[0m\u001b[1;33m\u001b[0m\u001b[1;33m\u001b[0m\u001b[0m\n",
      "\u001b[1;31mTypeError\u001b[0m: 'WebElement' object is not iterable"
     ]
    }
   ],
   "source": [
    "brand_name = []\n",
    "\n",
    "for i in b:\n",
    "    driver.get(i)\n",
    "    time.sleep(5)\n",
    "    \n",
    "try:\n",
    "    brand_tag = driver.find_element_by_xpath('//div[@class=\"_2WkVRV\"]')\n",
    "    brand_name.append(brand_tag.text.replace('/n','new line'))\n",
    "    \n",
    "except NoSuchElementException:\n",
    "    brand_name.append('--')"
   ]
  },
  {
   "cell_type": "code",
   "execution_count": 125,
   "metadata": {},
   "outputs": [
    {
     "data": {
      "text/plain": [
       "'Chevit'"
      ]
     },
     "execution_count": 125,
     "metadata": {},
     "output_type": "execute_result"
    }
   ],
   "source": [
    "b.text"
   ]
  },
  {
   "cell_type": "markdown",
   "metadata": {},
   "source": [
    "# Q10. first 10 laptops data."
   ]
  },
  {
   "cell_type": "code",
   "execution_count": 68,
   "metadata": {},
   "outputs": [],
   "source": [
    "driver = webdriver.Chrome('chromedriver.exe')"
   ]
  },
  {
   "cell_type": "code",
   "execution_count": 69,
   "metadata": {},
   "outputs": [],
   "source": [
    "url = ('https://www.amazon.in/')\n",
    "\n",
    "driver.get(url)"
   ]
  },
  {
   "cell_type": "code",
   "execution_count": 70,
   "metadata": {},
   "outputs": [
    {
     "data": {
      "text/plain": [
       "<selenium.webdriver.remote.webelement.WebElement (session=\"cd03417f5287ab600c055576c9db8c5e\", element=\"9615c376-fe8d-4422-9af2-a1f9b7030583\")>"
      ]
     },
     "execution_count": 70,
     "metadata": {},
     "output_type": "execute_result"
    }
   ],
   "source": [
    "search_tag = driver.find_element_by_id(\"twotabsearchtextbox\")\n",
    "search_tag"
   ]
  },
  {
   "cell_type": "code",
   "execution_count": 71,
   "metadata": {},
   "outputs": [],
   "source": [
    "search_tag.send_keys(\"Laptop\")"
   ]
  },
  {
   "cell_type": "code",
   "execution_count": 72,
   "metadata": {},
   "outputs": [],
   "source": [
    "button = driver.find_element_by_id(\"nav-search-submit-button\")\n",
    "button.click()"
   ]
  },
  {
   "cell_type": "code",
   "execution_count": 74,
   "metadata": {},
   "outputs": [],
   "source": [
    "apply_filter10 = driver.find_element_by_xpath('/html/body/div[1]/div[2]/div[1]/div[2]/div/div[3]/span/div[1]/span/div/div/div[6]/ul[1]/li[26]/span/a/div/label/i')\n",
    "apply_filter10.click()"
   ]
  },
  {
   "cell_type": "code",
   "execution_count": 78,
   "metadata": {},
   "outputs": [],
   "source": [
    "apply_filter = driver.find_element_by_xpath('/html/body/div[1]/div[2]/div[1]/div[2]/div/div[3]/span/div[1]/span/div/div/div[6]/ul[1]/li[28]/span/a/div/label/i')\n",
    "apply_filter.click()"
   ]
  },
  {
   "cell_type": "code",
   "execution_count": 79,
   "metadata": {},
   "outputs": [
    {
     "data": {
      "text/plain": [
       "<selenium.webdriver.remote.webelement.WebElement (session=\"cd03417f5287ab600c055576c9db8c5e\", element=\"192544d4-b975-4883-843f-2ffadf59896c\")>"
      ]
     },
     "execution_count": 79,
     "metadata": {},
     "output_type": "execute_result"
    }
   ],
   "source": [
    "title_tag = driver.find_element_by_xpath('//a[@class=\"a-link-normal a-text-normal\"]')\n",
    "title_tag"
   ]
  },
  {
   "cell_type": "code",
   "execution_count": 80,
   "metadata": {},
   "outputs": [
    {
     "ename": "InvalidArgumentException",
     "evalue": "Message: invalid argument\n  (Session info: chrome=92.0.4515.131)\n",
     "output_type": "error",
     "traceback": [
      "\u001b[1;31m---------------------------------------------------------------------------\u001b[0m",
      "\u001b[1;31mInvalidArgumentException\u001b[0m                  Traceback (most recent call last)",
      "\u001b[1;32m<ipython-input-80-cedc89c7a8c9>\u001b[0m in \u001b[0;36m<module>\u001b[1;34m\u001b[0m\n\u001b[0;32m      2\u001b[0m \u001b[1;33m\u001b[0m\u001b[0m\n\u001b[0;32m      3\u001b[0m \u001b[1;32mfor\u001b[0m \u001b[0mi\u001b[0m \u001b[1;32min\u001b[0m \u001b[0murl\u001b[0m\u001b[1;33m:\u001b[0m\u001b[1;33m\u001b[0m\u001b[1;33m\u001b[0m\u001b[0m\n\u001b[1;32m----> 4\u001b[1;33m     \u001b[0mdriver\u001b[0m\u001b[1;33m.\u001b[0m\u001b[0mget\u001b[0m\u001b[1;33m(\u001b[0m\u001b[0mi\u001b[0m\u001b[1;33m)\u001b[0m\u001b[1;33m\u001b[0m\u001b[1;33m\u001b[0m\u001b[0m\n\u001b[0m\u001b[0;32m      5\u001b[0m     \u001b[0mtime\u001b[0m\u001b[1;33m.\u001b[0m\u001b[0msleep\u001b[0m\u001b[1;33m(\u001b[0m\u001b[1;36m5\u001b[0m\u001b[1;33m)\u001b[0m\u001b[1;33m\u001b[0m\u001b[1;33m\u001b[0m\u001b[0m\n\u001b[0;32m      6\u001b[0m \u001b[1;33m\u001b[0m\u001b[0m\n",
      "\u001b[1;32m~\\Anaconda3\\lib\\site-packages\\selenium\\webdriver\\remote\\webdriver.py\u001b[0m in \u001b[0;36mget\u001b[1;34m(self, url)\u001b[0m\n\u001b[0;32m    331\u001b[0m         \u001b[0mLoads\u001b[0m \u001b[0ma\u001b[0m \u001b[0mweb\u001b[0m \u001b[0mpage\u001b[0m \u001b[1;32min\u001b[0m \u001b[0mthe\u001b[0m \u001b[0mcurrent\u001b[0m \u001b[0mbrowser\u001b[0m \u001b[0msession\u001b[0m\u001b[1;33m.\u001b[0m\u001b[1;33m\u001b[0m\u001b[1;33m\u001b[0m\u001b[0m\n\u001b[0;32m    332\u001b[0m         \"\"\"\n\u001b[1;32m--> 333\u001b[1;33m         \u001b[0mself\u001b[0m\u001b[1;33m.\u001b[0m\u001b[0mexecute\u001b[0m\u001b[1;33m(\u001b[0m\u001b[0mCommand\u001b[0m\u001b[1;33m.\u001b[0m\u001b[0mGET\u001b[0m\u001b[1;33m,\u001b[0m \u001b[1;33m{\u001b[0m\u001b[1;34m'url'\u001b[0m\u001b[1;33m:\u001b[0m \u001b[0murl\u001b[0m\u001b[1;33m}\u001b[0m\u001b[1;33m)\u001b[0m\u001b[1;33m\u001b[0m\u001b[1;33m\u001b[0m\u001b[0m\n\u001b[0m\u001b[0;32m    334\u001b[0m \u001b[1;33m\u001b[0m\u001b[0m\n\u001b[0;32m    335\u001b[0m     \u001b[1;33m@\u001b[0m\u001b[0mproperty\u001b[0m\u001b[1;33m\u001b[0m\u001b[1;33m\u001b[0m\u001b[0m\n",
      "\u001b[1;32m~\\Anaconda3\\lib\\site-packages\\selenium\\webdriver\\remote\\webdriver.py\u001b[0m in \u001b[0;36mexecute\u001b[1;34m(self, driver_command, params)\u001b[0m\n\u001b[0;32m    319\u001b[0m         \u001b[0mresponse\u001b[0m \u001b[1;33m=\u001b[0m \u001b[0mself\u001b[0m\u001b[1;33m.\u001b[0m\u001b[0mcommand_executor\u001b[0m\u001b[1;33m.\u001b[0m\u001b[0mexecute\u001b[0m\u001b[1;33m(\u001b[0m\u001b[0mdriver_command\u001b[0m\u001b[1;33m,\u001b[0m \u001b[0mparams\u001b[0m\u001b[1;33m)\u001b[0m\u001b[1;33m\u001b[0m\u001b[1;33m\u001b[0m\u001b[0m\n\u001b[0;32m    320\u001b[0m         \u001b[1;32mif\u001b[0m \u001b[0mresponse\u001b[0m\u001b[1;33m:\u001b[0m\u001b[1;33m\u001b[0m\u001b[1;33m\u001b[0m\u001b[0m\n\u001b[1;32m--> 321\u001b[1;33m             \u001b[0mself\u001b[0m\u001b[1;33m.\u001b[0m\u001b[0merror_handler\u001b[0m\u001b[1;33m.\u001b[0m\u001b[0mcheck_response\u001b[0m\u001b[1;33m(\u001b[0m\u001b[0mresponse\u001b[0m\u001b[1;33m)\u001b[0m\u001b[1;33m\u001b[0m\u001b[1;33m\u001b[0m\u001b[0m\n\u001b[0m\u001b[0;32m    322\u001b[0m             response['value'] = self._unwrap_value(\n\u001b[0;32m    323\u001b[0m                 response.get('value', None))\n",
      "\u001b[1;32m~\\Anaconda3\\lib\\site-packages\\selenium\\webdriver\\remote\\errorhandler.py\u001b[0m in \u001b[0;36mcheck_response\u001b[1;34m(self, response)\u001b[0m\n\u001b[0;32m    240\u001b[0m                 \u001b[0malert_text\u001b[0m \u001b[1;33m=\u001b[0m \u001b[0mvalue\u001b[0m\u001b[1;33m[\u001b[0m\u001b[1;34m'alert'\u001b[0m\u001b[1;33m]\u001b[0m\u001b[1;33m.\u001b[0m\u001b[0mget\u001b[0m\u001b[1;33m(\u001b[0m\u001b[1;34m'text'\u001b[0m\u001b[1;33m)\u001b[0m\u001b[1;33m\u001b[0m\u001b[1;33m\u001b[0m\u001b[0m\n\u001b[0;32m    241\u001b[0m             \u001b[1;32mraise\u001b[0m \u001b[0mexception_class\u001b[0m\u001b[1;33m(\u001b[0m\u001b[0mmessage\u001b[0m\u001b[1;33m,\u001b[0m \u001b[0mscreen\u001b[0m\u001b[1;33m,\u001b[0m \u001b[0mstacktrace\u001b[0m\u001b[1;33m,\u001b[0m \u001b[0malert_text\u001b[0m\u001b[1;33m)\u001b[0m\u001b[1;33m\u001b[0m\u001b[1;33m\u001b[0m\u001b[0m\n\u001b[1;32m--> 242\u001b[1;33m         \u001b[1;32mraise\u001b[0m \u001b[0mexception_class\u001b[0m\u001b[1;33m(\u001b[0m\u001b[0mmessage\u001b[0m\u001b[1;33m,\u001b[0m \u001b[0mscreen\u001b[0m\u001b[1;33m,\u001b[0m \u001b[0mstacktrace\u001b[0m\u001b[1;33m)\u001b[0m\u001b[1;33m\u001b[0m\u001b[1;33m\u001b[0m\u001b[0m\n\u001b[0m\u001b[0;32m    243\u001b[0m \u001b[1;33m\u001b[0m\u001b[0m\n\u001b[0;32m    244\u001b[0m     \u001b[1;32mdef\u001b[0m \u001b[0m_value_or_default\u001b[0m\u001b[1;33m(\u001b[0m\u001b[0mself\u001b[0m\u001b[1;33m,\u001b[0m \u001b[0mobj\u001b[0m\u001b[1;33m,\u001b[0m \u001b[0mkey\u001b[0m\u001b[1;33m,\u001b[0m \u001b[0mdefault\u001b[0m\u001b[1;33m)\u001b[0m\u001b[1;33m:\u001b[0m\u001b[1;33m\u001b[0m\u001b[1;33m\u001b[0m\u001b[0m\n",
      "\u001b[1;31mInvalidArgumentException\u001b[0m: Message: invalid argument\n  (Session info: chrome=92.0.4515.131)\n"
     ]
    }
   ],
   "source": [
    "title = []\n",
    "\n",
    "for i in url:\n",
    "    driver.get(i)\n",
    "    time.sleep(5)\n",
    "    \n",
    "try:\n",
    "    laptop_title = driver.find_element_by_xpath('//a[@class=\"a-link-normal a-text-normal\"]')\n",
    "    title.append(laptop_title.text.replace('/n','new line'))\n",
    "    \n",
    "except NoSuchElementException:\n",
    "    title.append('--')\n",
    "    \n"
   ]
  },
  {
   "cell_type": "code",
   "execution_count": null,
   "metadata": {},
   "outputs": [],
   "source": []
  }
 ],
 "metadata": {
  "kernelspec": {
   "display_name": "Python 3",
   "language": "python",
   "name": "python3"
  },
  "language_info": {
   "codemirror_mode": {
    "name": "ipython",
    "version": 3
   },
   "file_extension": ".py",
   "mimetype": "text/x-python",
   "name": "python",
   "nbconvert_exporter": "python",
   "pygments_lexer": "ipython3",
   "version": "3.8.5"
  }
 },
 "nbformat": 4,
 "nbformat_minor": 4
}
